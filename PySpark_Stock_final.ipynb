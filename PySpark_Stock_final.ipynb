{
 "cells": [
  {
   "cell_type": "code",
   "execution_count": 44,
   "metadata": {
    "collapsed": false,
    "scrolled": true
   },
   "outputs": [
    {
     "data": {
      "text/html": [
       "<style scoped>\n",
       "  .ansiout {\n",
       "    display: block;\n",
       "    unicode-bidi: embed;\n",
       "    white-space: pre-wrap;\n",
       "    word-wrap: break-word;\n",
       "    word-break: break-all;\n",
       "    font-family: \"Source Code Pro\", \"Menlo\", monospace;;\n",
       "    font-size: 13px;\n",
       "    color: #555;\n",
       "    margin-left: 4px;\n",
       "    line-height: 19px;\n",
       "  }\n",
       "</style>\n",
       "<div class=\"ansiout\"></div>"
      ]
     },
     "metadata": {},
     "output_type": "display_data"
    }
   ],
   "source": [
    "#import libraries\n",
    "import matplotlib.pyplot as plt\n",
    "import numpy as np\n",
    "import pandas as pd\n",
    "%matplotlib inline"
   ]
  },
  {
   "cell_type": "code",
   "execution_count": null,
   "metadata": {
    "collapsed": true
   },
   "outputs": [],
   "source": [
    "from pyspark.sql import types\n",
    "from pyspark.sql.functions import col\n",
    "import requests, pandas as pd, numpy as np\n",
    "from pandas import DataFrame\n",
    "from io import StringIO\n",
    "import time, json\n",
    "from datetime import date\n",
    "from statsmodels.tsa.stattools import adfuller, acf, pacf\n",
    "from statsmodels.tsa.arima_model import ARIMA\n",
    "from statsmodels.tsa.seasonal import seasonal_decompose\n",
    "from sklearn.metrics import mean_squared_error\n",
    "import matplotlib.pylab as plt\n",
    "from statsmodels.graphics.tsaplots import plot_acf, plot_pacf"
   ]
  },
  {
   "cell_type": "code",
   "execution_count": null,
   "metadata": {
    "collapsed": true
   },
   "outputs": [],
   "source": [
    "# http://stackoverflow.com/questions/28999332/how-to-access-sparkcontext-in-pyspark-script\n",
    "sc = SparkContext.getOrCreate()"
   ]
  },
  {
   "cell_type": "code",
   "execution_count": null,
   "metadata": {
    "collapsed": true
   },
   "outputs": [],
   "source": [
    "from pyspark.sql import SparkSession\n",
    "spark = SparkSession.builder.appName('Stock_price_prediction').getOrCreate()\n",
    "df = spark.read.csv('AAPL_stock_Quandl.csv', header = True, inferSchema = True)\n",
    "df.printSchema()"
   ]
  },
  {
   "cell_type": "code",
   "execution_count": null,
   "metadata": {
    "collapsed": true
   },
   "outputs": [],
   "source": [
    "df.describe().show()"
   ]
  },
  {
   "cell_type": "code",
   "execution_count": null,
   "metadata": {
    "collapsed": true
   },
   "outputs": [],
   "source": [
    "len(df.columns)"
   ]
  },
  {
   "cell_type": "code",
   "execution_count": null,
   "metadata": {
    "collapsed": true
   },
   "outputs": [],
   "source": [
    "df.count()"
   ]
  },
  {
   "cell_type": "markdown",
   "metadata": {},
   "source": [
    "### Feature Engineering"
   ]
  },
  {
   "cell_type": "code",
   "execution_count": null,
   "metadata": {
    "collapsed": true
   },
   "outputs": [],
   "source": [
    "df = df.withColumn('O-L', df['Open'] - df['Low'])"
   ]
  },
  {
   "cell_type": "code",
   "execution_count": null,
   "metadata": {
    "collapsed": true
   },
   "outputs": [],
   "source": [
    "from pyspark.sql.functions import lag, lit, lead\n",
    "from pyspark.sql.window import Window"
   ]
  },
  {
   "cell_type": "code",
   "execution_count": null,
   "metadata": {
    "collapsed": true
   },
   "outputs": [],
   "source": [
    "df = df.withColumn('dummy_column', lit('Stocks!'))"
   ]
  },
  {
   "cell_type": "code",
   "execution_count": null,
   "metadata": {
    "collapsed": true
   },
   "outputs": [],
   "source": [
    "w = Window.orderBy(\"dummy_column\")\n",
    "# Create the lagged value\n",
    "value_lead = lead('Adj_Close').over(w)\n",
    "# Add the lagged values to a new coblumn\n",
    "df = df.withColumn('Next_Adj_Close', value_lead)"
   ]
  },
  {
   "cell_type": "code",
   "execution_count": null,
   "metadata": {
    "collapsed": true
   },
   "outputs": [],
   "source": [
    "df.show(2)"
   ]
  },
  {
   "cell_type": "code",
   "execution_count": null,
   "metadata": {
    "collapsed": true
   },
   "outputs": [],
   "source": [
    "value_lag = lag('Adj Close', count=1).over(w)\n",
    "df = df.withColumn('Avg_close1', value_lag)\n",
    "\n",
    "value_lag = lag('Adj Close', count=3).over(w)\n",
    "df = df.withColumn('Adj_Close3', value_lag)\n",
    "\n",
    "value_lag = lag('Adj Close', count=4).over(w)\n",
    "df = df.withColumn('Adj_Close4', value_lag)\n",
    "\n",
    "value_lag = lag('Adj Close', count=4).over(w)\n",
    "df = df.withColumn('Adj_Close5', value_lag)"
   ]
  },
  {
   "cell_type": "code",
   "execution_count": null,
   "metadata": {
    "collapsed": true
   },
   "outputs": [],
   "source": [
    "df.printSchema()"
   ]
  },
  {
   "cell_type": "code",
   "execution_count": null,
   "metadata": {
    "collapsed": true
   },
   "outputs": [],
   "source": [
    "from pyspark.sql.functions import to_date, date_format\n",
    "from pyspark.sql.functions import year, month\n",
    "from pyspark.sql.functions import dayofmonth, weekofyear, dayofweek"
   ]
  },
  {
   "cell_type": "code",
   "execution_count": null,
   "metadata": {
    "collapsed": true
   },
   "outputs": [],
   "source": [
    "df = df.withColumn('DATEFORMAT', to_date('Date'))"
   ]
  },
  {
   "cell_type": "code",
   "execution_count": null,
   "metadata": {
    "collapsed": true
   },
   "outputs": [],
   "source": [
    "df = df.withColumn('YEAR', year('DATEFORMAT'))\n",
    "df = df.withColumn('MONTH', month('DATEFORMAT'))\n",
    "df = df.withColumn('DAYOFMONTH', dayofmonth('DATEFORMAT'))\n",
    "df = df.withColumn('DAYOFMONTH', dayofmonth('DATEFORMAT'))\n",
    "df = df.withColumn('DAYOFWEEK', dayofweek('DATEFORMAT'))\n",
    "df = df.withColumn('WEEKOFYEAR', weekofyear('DATEFORMAT'))\n",
    "df = df.withColumn(\"week\", date_format('DATEFORMAT', \"W\"))"
   ]
  },
  {
   "cell_type": "code",
   "execution_count": null,
   "metadata": {
    "collapsed": true
   },
   "outputs": [],
   "source": [
    "from pyspark.sql.functions import lag\n",
    "from pyspark.sql.window import Window"
   ]
  },
  {
   "cell_type": "code",
   "execution_count": null,
   "metadata": {
    "collapsed": true
   },
   "outputs": [],
   "source": [
    "w = Window().orderBy(df['DATE'])"
   ]
  },
  {
   "cell_type": "markdown",
   "metadata": {},
   "source": [
    "### Custom Function for finding the moving averages"
   ]
  },
  {
   "cell_type": "code",
   "execution_count": null,
   "metadata": {
    "collapsed": true
   },
   "outputs": [],
   "source": [
    "from pyspark.sql.functions import coalesce, lit, col, lead, lag\n",
    "from operator import add\n",
    "from functools import reduce\n",
    "\n",
    "def weighted_average(c, window, offsets, weights):\n",
    "    assert len(weights) == len(offsets)\n",
    "\n",
    "    def value(i):\n",
    "        if i < 0: return lag(c, -i).over(window)\n",
    "        if i > 0: return lead(c, i).over(window)\n",
    "        return c\n",
    "\n",
    "    values = [coalesce(value(i) * w, lit(0)) for i, w in zip(offsets, weights)]\n",
    "\n",
    "    return reduce(add, values, lit(0))"
   ]
  },
  {
   "cell_type": "code",
   "execution_count": null,
   "metadata": {
    "collapsed": true
   },
   "outputs": [],
   "source": [
    "w = Window.partitionBy(\"dummy_column\").orderBy(\"DATEFORMAT\")\n",
    "# offsets, delays =  [-1,0], [0.5, 0.5]\n",
    "a = [1/20] *20\n",
    "offsets, delays =   [int(e) for e in list(np.arange(20)*-1)] , a\n",
    "df = df.withColumn(\"Avg_Close_20\", weighted_average(col(\"DAYOFMONTH\"), w, offsets, delays))"
   ]
  },
  {
   "cell_type": "code",
   "execution_count": null,
   "metadata": {
    "collapsed": true
   },
   "outputs": [],
   "source": [
    "a = [1/10] *10\n",
    "offsets, delays =   [int(e) for e in list(np.arange(10)*-1)] , a\n",
    "df = df.withColumn(\"Avg_Close_10\", weighted_average(col(\"DAYOFMONTH\"), w, offsets, delays))"
   ]
  },
  {
   "cell_type": "code",
   "execution_count": null,
   "metadata": {
    "collapsed": true
   },
   "outputs": [],
   "source": [
    "a = [1/5] *5\n",
    "offsets, delays =   [int(e) for e in list(np.arange(5)*-1)] , a\n",
    "df = df.withColumn(\"Avg_Close_5\", weighted_average(col(\"DAYOFMONTH\"), w, offsets, delays))"
   ]
  },
  {
   "cell_type": "code",
   "execution_count": null,
   "metadata": {
    "collapsed": true
   },
   "outputs": [],
   "source": [
    "a = [1/80] *80\n",
    "offsets, delays =   [int(e) for e in list(np.arange(80)*-1)] , a\n",
    "df = df.withColumn(\"Avg_Close_80\", weighted_average(col(\"DAYOFMONTH\"), w, offsets, delays))"
   ]
  },
  {
   "cell_type": "code",
   "execution_count": null,
   "metadata": {
    "collapsed": true
   },
   "outputs": [],
   "source": [
    "offsets, delays =   [0, 1, 8, 15], [0.25,0.25,0.25,0.25]\n",
    "df = df.withColumn(\"Avg_Close_0_1_8_15\", weighted_average(col(\"DAYOFMONTH\"), w, offsets, delays))"
   ]
  },
  {
   "cell_type": "code",
   "execution_count": null,
   "metadata": {
    "collapsed": true
   },
   "outputs": [],
   "source": [
    "offsets, delays =   [0, 1, 3, 5], [0.25,0.25,0.25,0.25]\n",
    "df = df.withColumn(\"Avg_Close_0_1_3_5\", weighted_average(col(\"DAYOFMONTH\"), w, offsets, delays))"
   ]
  },
  {
   "cell_type": "code",
   "execution_count": null,
   "metadata": {
    "collapsed": true
   },
   "outputs": [],
   "source": [
    "offsets, delays =   [0, 1, 3, 5], [0.25,0.25,0.25,0.25]\n",
    "df = df.withColumn(\"Avg_Close_0_1_3_5\", weighted_average(col(\"DAYOFMONTH\"), w, offsets, delays))"
   ]
  },
  {
   "cell_type": "code",
   "execution_count": null,
   "metadata": {
    "collapsed": true
   },
   "outputs": [],
   "source": [
    "offsets, delays =   [0, 1, 5, 20, 80], [0.2,0.2,0.2,0.2,0.2]\n",
    "df = df.withColumn(\"Avg_Close_0_1_5_20_80\", weighted_average(col(\"DAYOFMONTH\"), w, offsets, delays))"
   ]
  },
  {
   "cell_type": "code",
   "execution_count": null,
   "metadata": {
    "collapsed": true
   },
   "outputs": [],
   "source": [
    "offsets, delays =   [0, 1, 2], [0.333,0.333,0.333]\n",
    "df = df.withColumn(\"Avg_Close_3\", weighted_average(col(\"DAYOFMONTH\"), w, offsets, delays))"
   ]
  },
  {
   "cell_type": "code",
   "execution_count": null,
   "metadata": {
    "collapsed": true
   },
   "outputs": [],
   "source": [
    "offsets, delays =   [0, 1], [0.5,0.5]\n",
    "df = df.withColumn(\"Avg_Close_2\", weighted_average(col(\"DAYOFMONTH\"), w, offsets, delays))"
   ]
  },
  {
   "cell_type": "code",
   "execution_count": null,
   "metadata": {
    "collapsed": true
   },
   "outputs": [],
   "source": [
    "df.printSchema()"
   ]
  },
  {
   "cell_type": "code",
   "execution_count": null,
   "metadata": {
    "collapsed": true
   },
   "outputs": [],
   "source": [
    "df = df.withColumn('O-C', df.Open - df.Adj_Close)\n",
    "df = df.withColumn('H-L', df.High - df.Low)"
   ]
  },
  {
   "cell_type": "code",
   "execution_count": null,
   "metadata": {
    "collapsed": true
   },
   "outputs": [],
   "source": [
    "df1 = df.toPandas()\n",
    "df1 = df1.dropna()\n",
    "df1['Adj_Close'] = df1['Adj_Close'].astype(float)"
   ]
  },
  {
   "cell_type": "code",
   "execution_count": null,
   "metadata": {
    "collapsed": true
   },
   "outputs": [],
   "source": [
    "# functions for finding standard deviation, min anx in last n rolling window days\n",
    "df1['MinClose_5'] = df1['Adj_Close'].rolling(5).min()\n",
    "df1['MinClose_10'] = df1['Adj_Close'].rolling(10).min()\n",
    "df1['MinClose_20'] = df1['Adj_Close'].rolling(20).min()\n",
    "df1['MinClose_80'] = df1['Adj_Close'].rolling(80).min()\n",
    "df1['MaxClose_5'] = df1['Adj_Close'].rolling(5).max()\n",
    "df1['MaxClose_10'] = df1['Adj_Close'].rolling(10).max()\n",
    "df1['MaxClose_20'] = df1['Adj_Close'].rolling(20).max()\n",
    "df1['MaxClose_80'] = df1['Adj_Close'].rolling(80).max()\n",
    "df1['StdClose_5'] = df1['Adj_Close'].rolling(5).std()\n",
    "df1['StdClose_10'] = df1['Adj_Close'].rolling(10).std()\n",
    "df1['StdClose_20'] = df1['Adj_Close'].rolling(20).std()\n",
    "df1['StdClose_80'] = df1['Adj_Close'].rolling(80).std()"
   ]
  },
  {
   "cell_type": "code",
   "execution_count": null,
   "metadata": {
    "collapsed": true
   },
   "outputs": [],
   "source": [
    "df1 = df1.dropna()\n",
    "df1.head(2)"
   ]
  },
  {
   "cell_type": "code",
   "execution_count": null,
   "metadata": {
    "collapsed": true
   },
   "outputs": [],
   "source": [
    "cols = df1.columns.drop(['Date','DATEFORMAT', 'dummy_column'],1)\n",
    "drop_Cols = ['DATEFORMAT', 'dummy_column' ]\n",
    "df1 = df1.drop(drop_Cols, 1)"
   ]
  },
  {
   "cell_type": "code",
   "execution_count": null,
   "metadata": {
    "collapsed": true
   },
   "outputs": [],
   "source": [
    "df1[cols] = df1[cols].apply(pd.to_numeric, errors='coerce')"
   ]
  },
  {
   "cell_type": "code",
   "execution_count": null,
   "metadata": {
    "collapsed": true
   },
   "outputs": [],
   "source": [
    "inputCols = list(df1.columns.drop(['Date','Next_Adj_Close']))"
   ]
  },
  {
   "cell_type": "code",
   "execution_count": null,
   "metadata": {
    "collapsed": true
   },
   "outputs": [],
   "source": [
    "#dropping nans\n",
    "df1 = df1.dropna()  \n",
    "df1[pd.isnull(df1).any(axis=1)]"
   ]
  },
  {
   "cell_type": "code",
   "execution_count": null,
   "metadata": {
    "collapsed": true
   },
   "outputs": [],
   "source": [
    "#created a csv so as to use the processed data with all created set of features\n",
    "df1.to_csv('final_data.csv')"
   ]
  },
  {
   "cell_type": "markdown",
   "metadata": {},
   "source": [
    "## machine learning workflow"
   ]
  },
  {
   "cell_type": "code",
   "execution_count": null,
   "metadata": {
    "collapsed": true
   },
   "outputs": [],
   "source": [
    "from pyspark.ml.feature import VectorAssembler"
   ]
  },
  {
   "cell_type": "code",
   "execution_count": null,
   "metadata": {
    "collapsed": true
   },
   "outputs": [],
   "source": [
    "df = spark.read.csv('final_data.csv', header = True, inferSchema = True)\n",
    "# df.printSchema()"
   ]
  },
  {
   "cell_type": "code",
   "execution_count": null,
   "metadata": {
    "collapsed": true
   },
   "outputs": [],
   "source": [
    "df_assembler = VectorAssembler(inputCols=['High', 'Open', 'Low', 'Adj_Close', 'DAYOFMONTH', 'O-L', 'WEEKOFYEAR', 'Avg_Close_5', 'week', 'DAYOFWEEK', 'Avg_Close_10', 'Avg_Close_20', 'MONTH', 'Volume', 'YEAR'], outputCol=\"features\")\n",
    "df = df_assembler.transform(df)"
   ]
  },
  {
   "cell_type": "code",
   "execution_count": null,
   "metadata": {
    "collapsed": true
   },
   "outputs": [],
   "source": [
    "df.printSchema()"
   ]
  },
  {
   "cell_type": "code",
   "execution_count": null,
   "metadata": {
    "collapsed": true
   },
   "outputs": [],
   "source": [
    "from pyspark.sql.functions import percent_rank\n",
    "from pyspark.sql import Window\n",
    "\n",
    "df = df.withColumn(\"rank\", percent_rank().over(Window.partitionBy().orderBy(\"date\")))"
   ]
  },
  {
   "cell_type": "markdown",
   "metadata": {},
   "source": [
    "## Dividing into Test Train splits "
   ]
  },
  {
   "cell_type": "code",
   "execution_count": null,
   "metadata": {
    "collapsed": true
   },
   "outputs": [],
   "source": [
    "test_df = df.where(\"rank > .8\").drop(\"rank\")\n",
    "train_df = df.where(\"rank <= .8\").drop(\"rank\")"
   ]
  },
  {
   "cell_type": "code",
   "execution_count": null,
   "metadata": {
    "collapsed": true
   },
   "outputs": [],
   "source": [
    "test_df1 = train_df.toPandas()\n",
    "test_df1.tail()"
   ]
  },
  {
   "cell_type": "code",
   "execution_count": null,
   "metadata": {
    "collapsed": true
   },
   "outputs": [],
   "source": [
    "training_df=train_df.select(['features','Next_Adj_Close'])\n",
    "test_df=test_df.select(['features','Next_Adj_Close'])"
   ]
  },
  {
   "cell_type": "code",
   "execution_count": null,
   "metadata": {
    "collapsed": true
   },
   "outputs": [],
   "source": [
    "training_df.printSchema()"
   ]
  },
  {
   "cell_type": "code",
   "execution_count": null,
   "metadata": {
    "collapsed": true
   },
   "outputs": [],
   "source": [
    "training_df.show(1)"
   ]
  },
  {
   "cell_type": "markdown",
   "metadata": {},
   "source": [
    "### Linear regression Model"
   ]
  },
  {
   "cell_type": "code",
   "execution_count": null,
   "metadata": {
    "collapsed": true
   },
   "outputs": [],
   "source": [
    "from pyspark.ml.regression import LinearRegression\n",
    "lin_Reg=LinearRegression(labelCol='Next_Adj_Close')\n",
    "lr_model = lin_Reg.fit(training_df)\n",
    "lr_model.intercept\n",
    "print(lr_model.coefficients)"
   ]
  },
  {
   "cell_type": "code",
   "execution_count": null,
   "metadata": {
    "collapsed": true
   },
   "outputs": [],
   "source": [
    "training_predictions=lr_model.evaluate(training_df)\n",
    "training_predictions.meanSquaredError\n",
    "training_predictions.r2\n",
    "test_results=lr_model.evaluate(test_df)\n",
    "#view the residual errors based on predictions \n",
    "test_results.residuals.show(10)"
   ]
  },
  {
   "cell_type": "code",
   "execution_count": null,
   "metadata": {
    "collapsed": true
   },
   "outputs": [],
   "source": [
    "#Test Set results\n",
    "\n",
    "results=lr_model.evaluate(test_df).predictions\n",
    "\n",
    "results.select(['Next_Adj_Close','prediction']).show(10,False)"
   ]
  },
  {
   "cell_type": "code",
   "execution_count": null,
   "metadata": {
    "collapsed": true
   },
   "outputs": [],
   "source": [
    "type(test_results)\n",
    "test_results.r2\n",
    "test_results.rootMeanSquaredError\n",
    "test_results.meanSquaredError\n",
    "results.count()"
   ]
  },
  {
   "cell_type": "markdown",
   "metadata": {},
   "source": [
    "## Custom SMAPE function"
   ]
  },
  {
   "cell_type": "code",
   "execution_count": null,
   "metadata": {
    "collapsed": true
   },
   "outputs": [],
   "source": [
    "# SMAPE Evaluation Metric\n",
    "from  pyspark.sql.functions import abs\n",
    "from pyspark.sql import functions as F\n",
    "\n",
    "results = results.withColumn('Numerator', results.Next_Adj_Close - results.prediction)\n",
    "results = results.withColumn('Numerator', abs(results.Numerator))\n",
    "results = results.withColumn('denominator', (results.Next_Adj_Close + results.prediction)/2)\n",
    "results = results.withColumn('SMAPE', (results.Numerator / results.denominator))\n",
    "total = results.groupBy().agg(F.sum(\"SMAPE\")).collect()\n",
    "# total*100/results.count()"
   ]
  },
  {
   "cell_type": "code",
   "execution_count": null,
   "metadata": {
    "collapsed": true
   },
   "outputs": [],
   "source": [
    "# SMAPE Evaluation Metric\n",
    "from  pyspark.sql.functions import abs\n",
    "from pyspark.sql import functions as F\n",
    "\n",
    "results = results.withColumn('Numerator', abs(results.Next_Adj_Close - results.prediction)/((results.Next_Adj_Close + results.prediction)/2))\n",
    "total = results.agg(F.sum(\"SMAPE\")).collect()[0][0]\n",
    "total*100/(results.count())"
   ]
  },
  {
   "cell_type": "markdown",
   "metadata": {},
   "source": [
    "## Finding Best features using coefficients of Linear Regression"
   ]
  },
  {
   "cell_type": "code",
   "execution_count": null,
   "metadata": {
    "collapsed": true
   },
   "outputs": [],
   "source": [
    "print(\"Coefficients: \" + str(lr_model.coefficients))\n",
    "print(\"Intercept: \" + str(lr_model.intercept))"
   ]
  },
  {
   "cell_type": "code",
   "execution_count": null,
   "metadata": {
    "collapsed": true
   },
   "outputs": [],
   "source": [
    "best_features_lin = np.array(sorted(range(len(list((lr_model.coefficients)))), key=lambda i: list((lr_model.coefficients))[i], reverse=True)[:15])"
   ]
  },
  {
   "cell_type": "code",
   "execution_count": null,
   "metadata": {
    "collapsed": true
   },
   "outputs": [],
   "source": [
    "inputCols = pd.Series(inputCols)"
   ]
  },
  {
   "cell_type": "code",
   "execution_count": null,
   "metadata": {
    "collapsed": true
   },
   "outputs": [],
   "source": [
    "print(list(inputCols[best_features_lin]))"
   ]
  },
  {
   "cell_type": "markdown",
   "metadata": {},
   "source": [
    "### Random Forest Model - feature selection"
   ]
  },
  {
   "cell_type": "code",
   "execution_count": null,
   "metadata": {
    "collapsed": true
   },
   "outputs": [],
   "source": [
    "from pyspark.ml.regression import RandomForestRegressor\n",
    "from pyspark.ml.evaluation import RegressionEvaluator\n",
    "\n",
    "rf = RandomForestRegressor(labelCol='Next_Adj_Close')\n",
    "rf_model = rf.fit(training_df)\n",
    "results = rf_model.transform(test_df)\n",
    "\n",
    "results_rf = rf_model.transform(test_df)\n",
    "# test_results=rf_model.transform(test_df)\n",
    "\n",
    "results_rf.select(['Next_Adj_Close','prediction']).show(10,False)"
   ]
  },
  {
   "cell_type": "code",
   "execution_count": null,
   "metadata": {
    "collapsed": true
   },
   "outputs": [],
   "source": [
    "evaluator = RegressionEvaluator(\n",
    "    labelCol=\"Next_Adj_Close\", predictionCol=\"prediction\", metricName=\"rmse\")\n",
    "rmse = evaluator.evaluate(results)\n",
    "print(\"Root Mean Squared Error (RMSE) on test data = %g\" % rmse)"
   ]
  },
  {
   "cell_type": "code",
   "execution_count": null,
   "metadata": {
    "collapsed": true
   },
   "outputs": [],
   "source": [
    "test_results = rf_model.transform(test_df)"
   ]
  },
  {
   "cell_type": "markdown",
   "metadata": {},
   "source": [
    "## Gradient Boosting Model - feature selection"
   ]
  },
  {
   "cell_type": "code",
   "execution_count": null,
   "metadata": {
    "collapsed": true
   },
   "outputs": [],
   "source": [
    "from pyspark.ml.regression import GBTRegressor\n",
    "gbr = GBTRegressor(labelCol='Next_Adj_Close')\n",
    "gbr_model = gbr.fit(training_df)\n",
    "results_gbr = gbr_model.transform(test_df)\n",
    "results_gbr = gbr_model.transform(test_df)\n",
    "\n",
    "results_gbr.select(['Next_Adj_Close','prediction']).show(10,False)"
   ]
  },
  {
   "cell_type": "code",
   "execution_count": null,
   "metadata": {
    "collapsed": true
   },
   "outputs": [],
   "source": [
    "results.show()"
   ]
  },
  {
   "cell_type": "code",
   "execution_count": null,
   "metadata": {
    "collapsed": true
   },
   "outputs": [],
   "source": [
    "evaluator = RegressionEvaluator(\n",
    "    labelCol=\"Next_Adj_Close\", predictionCol=\"prediction\", metricName=\"rmse\")\n",
    "rmse = evaluator.evaluate(results_gbr)\n",
    "print(\"Root Mean Squared Error (RMSE) on test data = %g\" % rmse)\n",
    "results_gbr.select(['prediction'])"
   ]
  },
  {
   "cell_type": "markdown",
   "metadata": {},
   "source": [
    "## Logistic Regression Model - classification"
   ]
  },
  {
   "cell_type": "code",
   "execution_count": null,
   "metadata": {
    "collapsed": true
   },
   "outputs": [],
   "source": [
    "df1 = df.toPandas()\n",
    "df1 = df1.dropna()\n",
    "df1['Adj Close'] = df1['Adj Close'].astype(float)\n",
    "#Created the new Target variable\n",
    "df1['return'] = np.where(df1['Close'].shift(-1) > df1['Close'],1,0)"
   ]
  },
  {
   "cell_type": "code",
   "execution_count": null,
   "metadata": {
    "collapsed": true
   },
   "outputs": [],
   "source": [
    "cols = df1.columns.drop(['Next_Adj_Close','Date','DATEFORMAT', 'dummy_column'],1)\n",
    "drop_Cols = ['DATEFORMAT', 'dummy_column' ]\n",
    "df[cols] = df1[cols].apply(pd.to_numeric, errors='coerce')\n",
    "df1 = df1.dropna()  \n",
    "df1[pd.isnull(df1).any(axis=1)]"
   ]
  },
  {
   "cell_type": "code",
   "execution_count": null,
   "metadata": {
    "collapsed": true
   },
   "outputs": [],
   "source": [
    "df1.to_csv('final_data_Classification1.csv')\n",
    "df = spark.read.csv('final_data_Classification1.csv', header = True, inferSchema = True)"
   ]
  },
  {
   "cell_type": "code",
   "execution_count": null,
   "metadata": {
    "collapsed": true
   },
   "outputs": [],
   "source": [
    "df_assembler = VectorAssembler(inputCols=inputCols, outputCol=\"features\")\n",
    "df = df_assembler.transform(df)"
   ]
  },
  {
   "cell_type": "code",
   "execution_count": null,
   "metadata": {
    "collapsed": true
   },
   "outputs": [],
   "source": [
    "from pyspark.sql.functions import percent_rank\n",
    "from pyspark.sql import Window\n",
    "\n",
    "df = df.withColumn(\"rank\", percent_rank().over(Window.partitionBy().orderBy(\"Date\")))"
   ]
  },
  {
   "cell_type": "code",
   "execution_count": null,
   "metadata": {
    "collapsed": true
   },
   "outputs": [],
   "source": [
    "# Diving data to test train splits\n",
    "Data_df = df.where(\"rank > .60\").drop(\"rank\")\n",
    "Data_df = Data_df.withColumn(\"rank\", percent_rank().over(Window.partitionBy().orderBy(\"Date\")))"
   ]
  },
  {
   "cell_type": "code",
   "execution_count": null,
   "metadata": {
    "collapsed": true
   },
   "outputs": [],
   "source": [
    "test_df = Data_df.where(\"rank > .75\").drop(\"rank\")\n",
    "train_df = Data_df.where(\"rank <= .75\").drop(\"rank\")\n",
    "test_df.count()"
   ]
  },
  {
   "cell_type": "code",
   "execution_count": null,
   "metadata": {
    "collapsed": true
   },
   "outputs": [],
   "source": [
    "training_df=train_df.select(['features','return'])\n",
    "test_df=test_df.select(['features','return'])"
   ]
  },
  {
   "cell_type": "code",
   "execution_count": null,
   "metadata": {
    "collapsed": true
   },
   "outputs": [],
   "source": [
    "from pyspark.ml.classification import LogisticRegression\n",
    "log_reg=LogisticRegression(labelCol='return').fit(training_df)\n",
    "test_results=log_reg.evaluate(test_df).predictions"
   ]
  },
  {
   "cell_type": "code",
   "execution_count": null,
   "metadata": {
    "collapsed": true
   },
   "outputs": [],
   "source": [
    "train_results=log_reg.evaluate(training_df).predictions"
   ]
  },
  {
   "cell_type": "code",
   "execution_count": null,
   "metadata": {
    "collapsed": true
   },
   "outputs": [],
   "source": [
    "correct_preds=train_results.filter(train_results['return']==1).filter(train_results['prediction']==1).count()"
   ]
  },
  {
   "cell_type": "code",
   "execution_count": null,
   "metadata": {
    "collapsed": true
   },
   "outputs": [],
   "source": [
    "#Test Set results\n",
    "results=log_reg.evaluate(test_df).predictions\n",
    "results_df = results.select(['return','prediction'])"
   ]
  },
  {
   "cell_type": "code",
   "execution_count": null,
   "metadata": {
    "collapsed": true
   },
   "outputs": [],
   "source": [
    "correct_preds=results_df.filter(results_df['return']==1).filter(results_df['prediction']==1).count()\n",
    "#precision on testing dataset \n",
    "results_df.filter(results_df['return']==1).count()\n",
    "float(correct_preds)/(results_df.filter(results_df['prediction']==1).count())"
   ]
  },
  {
   "cell_type": "code",
   "execution_count": null,
   "metadata": {
    "collapsed": true
   },
   "outputs": [],
   "source": [
    "# df1.info()"
   ]
  },
  {
   "cell_type": "code",
   "execution_count": 45,
   "metadata": {
    "collapsed": false
   },
   "outputs": [
    {
     "data": {
      "text/html": [
       "<style scoped>\n",
       "  .ansiout {\n",
       "    display: block;\n",
       "    unicode-bidi: embed;\n",
       "    white-space: pre-wrap;\n",
       "    word-wrap: break-word;\n",
       "    word-break: break-all;\n",
       "    font-family: \"Source Code Pro\", \"Menlo\", monospace;;\n",
       "    font-size: 13px;\n",
       "    color: #555;\n",
       "    margin-left: 4px;\n",
       "    line-height: 19px;\n",
       "  }\n",
       "</style>\n",
       "<div class=\"ansiout\"></div>"
      ]
     },
     "metadata": {},
     "output_type": "display_data"
    }
   ],
   "source": [
    "df1.to_csv('final_data.csv')"
   ]
  },
  {
   "cell_type": "code",
   "execution_count": 46,
   "metadata": {
    "collapsed": false
   },
   "outputs": [
    {
     "data": {
      "text/html": [
       "<style scoped>\n",
       "  .ansiout {\n",
       "    display: block;\n",
       "    unicode-bidi: embed;\n",
       "    white-space: pre-wrap;\n",
       "    word-wrap: break-word;\n",
       "    word-break: break-all;\n",
       "    font-family: \"Source Code Pro\", \"Menlo\", monospace;;\n",
       "    font-size: 13px;\n",
       "    color: #555;\n",
       "    margin-left: 4px;\n",
       "    line-height: 19px;\n",
       "  }\n",
       "</style>\n",
       "<div class=\"ansiout\"></div>"
      ]
     },
     "metadata": {},
     "output_type": "display_data"
    }
   ],
   "source": [
    "from pyspark.ml.feature import VectorAssembler"
   ]
  },
  {
   "cell_type": "markdown",
   "metadata": {},
   "source": [
    "## Linear Regression"
   ]
  },
  {
   "cell_type": "markdown",
   "metadata": {},
   "source": [
    "### taking the data from csv file, this csv file has all the features prepared and we have to repeat the same procedure from this cell to the end by changing the name of csv file form 2weeks to 1month to get results for different time horizons"
   ]
  },
  {
   "cell_type": "code",
   "execution_count": 47,
   "metadata": {
    "collapsed": false,
    "scrolled": true
   },
   "outputs": [
    {
     "data": {
      "text/html": [
       "<style scoped>\n",
       "  .ansiout {\n",
       "    display: block;\n",
       "    unicode-bidi: embed;\n",
       "    white-space: pre-wrap;\n",
       "    word-wrap: break-word;\n",
       "    word-break: break-all;\n",
       "    font-family: \"Source Code Pro\", \"Menlo\", monospace;;\n",
       "    font-size: 13px;\n",
       "    color: #555;\n",
       "    margin-left: 4px;\n",
       "    line-height: 19px;\n",
       "  }\n",
       "</style>\n",
       "<div class=\"ansiout\"></div>"
      ]
     },
     "metadata": {},
     "output_type": "display_data"
    }
   ],
   "source": [
    "df = spark.read.csv('/FileStore/tables/final_data_2weeks.csv', header = True, inferSchema = True)\n",
    "# df.printSchema()"
   ]
  },
  {
   "cell_type": "code",
   "execution_count": 48,
   "metadata": {
    "collapsed": false
   },
   "outputs": [
    {
     "data": {
      "text/html": [
       "<style scoped>\n",
       "  .ansiout {\n",
       "    display: block;\n",
       "    unicode-bidi: embed;\n",
       "    white-space: pre-wrap;\n",
       "    word-wrap: break-word;\n",
       "    word-break: break-all;\n",
       "    font-family: \"Source Code Pro\", \"Menlo\", monospace;;\n",
       "    font-size: 13px;\n",
       "    color: #555;\n",
       "    margin-left: 4px;\n",
       "    line-height: 19px;\n",
       "  }\n",
       "</style>\n",
       "<div class=\"ansiout\"></div>"
      ]
     },
     "metadata": {},
     "output_type": "display_data"
    }
   ],
   "source": [
    "# x = df.toPandas()\n",
    "# x.tail()"
   ]
  },
  {
   "cell_type": "code",
   "execution_count": 49,
   "metadata": {
    "collapsed": false
   },
   "outputs": [
    {
     "data": {
      "text/html": [
       "<style scoped>\n",
       "  .ansiout {\n",
       "    display: block;\n",
       "    unicode-bidi: embed;\n",
       "    white-space: pre-wrap;\n",
       "    word-wrap: break-word;\n",
       "    word-break: break-all;\n",
       "    font-family: \"Source Code Pro\", \"Menlo\", monospace;;\n",
       "    font-size: 13px;\n",
       "    color: #555;\n",
       "    margin-left: 4px;\n",
       "    line-height: 19px;\n",
       "  }\n",
       "</style>\n",
       "<div class=\"ansiout\"></div>"
      ]
     },
     "metadata": {},
     "output_type": "display_data"
    }
   ],
   "source": [
    "df_assembler = VectorAssembler(inputCols=inputCols, outputCol=\"features\")\n",
    "df = df_assembler.transform(df)"
   ]
  },
  {
   "cell_type": "markdown",
   "metadata": {},
   "source": [
    "### converting the date column to DATEFORMAT to vary train sizes just by changing the date"
   ]
  },
  {
   "cell_type": "code",
   "execution_count": 50,
   "metadata": {
    "collapsed": false
   },
   "outputs": [
    {
     "data": {
      "text/html": [
       "<style scoped>\n",
       "  .ansiout {\n",
       "    display: block;\n",
       "    unicode-bidi: embed;\n",
       "    white-space: pre-wrap;\n",
       "    word-wrap: break-word;\n",
       "    word-break: break-all;\n",
       "    font-family: \"Source Code Pro\", \"Menlo\", monospace;;\n",
       "    font-size: 13px;\n",
       "    color: #555;\n",
       "    margin-left: 4px;\n",
       "    line-height: 19px;\n",
       "  }\n",
       "</style>\n",
       "<div class=\"ansiout\"></div>"
      ]
     },
     "metadata": {},
     "output_type": "display_data"
    }
   ],
   "source": [
    "df = df.withColumn('DATEFORMAT', to_date('Date'))"
   ]
  },
  {
   "cell_type": "code",
   "execution_count": 51,
   "metadata": {
    "collapsed": false
   },
   "outputs": [
    {
     "data": {
      "text/html": [
       "<style scoped>\n",
       "  .ansiout {\n",
       "    display: block;\n",
       "    unicode-bidi: embed;\n",
       "    white-space: pre-wrap;\n",
       "    word-wrap: break-word;\n",
       "    word-break: break-all;\n",
       "    font-family: \"Source Code Pro\", \"Menlo\", monospace;;\n",
       "    font-size: 13px;\n",
       "    color: #555;\n",
       "    margin-left: 4px;\n",
       "    line-height: 19px;\n",
       "  }\n",
       "</style>\n",
       "<div class=\"ansiout\"></div>"
      ]
     },
     "metadata": {},
     "output_type": "display_data"
    }
   ],
   "source": [
    "df = df.where((col(\"DATEFORMAT\") < \"2018-12-31\"))"
   ]
  },
  {
   "cell_type": "code",
   "execution_count": 52,
   "metadata": {
    "collapsed": false
   },
   "outputs": [
    {
     "data": {
      "text/html": [
       "<style scoped>\n",
       "  .ansiout {\n",
       "    display: block;\n",
       "    unicode-bidi: embed;\n",
       "    white-space: pre-wrap;\n",
       "    word-wrap: break-word;\n",
       "    word-break: break-all;\n",
       "    font-family: \"Source Code Pro\", \"Menlo\", monospace;;\n",
       "    font-size: 13px;\n",
       "    color: #555;\n",
       "    margin-left: 4px;\n",
       "    line-height: 19px;\n",
       "  }\n",
       "</style>\n",
       "<div class=\"ansiout\"></div>"
      ]
     },
     "metadata": {},
     "output_type": "display_data"
    }
   ],
   "source": [
    "# x = df.toPandas()\n",
    "# x.tail() 2018-08-29 "
   ]
  },
  {
   "cell_type": "markdown",
   "metadata": {},
   "source": [
    "### For a given test data the following code finds the SMAPE and RMSE values for the test data by changing the train dates."
   ]
  },
  {
   "cell_type": "code",
   "execution_count": 53,
   "metadata": {
    "collapsed": false
   },
   "outputs": [
    {
     "data": {
      "text/html": [
       "<style scoped>\n",
       "  .ansiout {\n",
       "    display: block;\n",
       "    unicode-bidi: embed;\n",
       "    white-space: pre-wrap;\n",
       "    word-wrap: break-word;\n",
       "    word-break: break-all;\n",
       "    font-family: \"Source Code Pro\", \"Menlo\", monospace;;\n",
       "    font-size: 13px;\n",
       "    color: #555;\n",
       "    margin-left: 4px;\n",
       "    line-height: 19px;\n",
       "  }\n",
       "</style>\n",
       "<div class=\"ansiout\"></div>"
      ]
     },
     "metadata": {},
     "output_type": "display_data"
    }
   ],
   "source": [
    "dftest = df.where((col(\"DATEFORMAT\") > \"2015-12-31\"))\n",
    "dftrain = df.where((col(\"DATEFORMAT\") < \"2015-12-31\"))\n",
    "dftemptemp = dftrain"
   ]
  },
  {
   "cell_type": "markdown",
   "metadata": {},
   "source": [
    "### looping over through different train dates for calcualting values for different train test splits"
   ]
  },
  {
   "cell_type": "code",
   "execution_count": 54,
   "metadata": {
    "collapsed": false
   },
   "outputs": [
    {
     "data": {
      "text/html": [
       "<style scoped>\n",
       "  .ansiout {\n",
       "    display: block;\n",
       "    unicode-bidi: embed;\n",
       "    white-space: pre-wrap;\n",
       "    word-wrap: break-word;\n",
       "    word-break: break-all;\n",
       "    font-family: \"Source Code Pro\", \"Menlo\", monospace;;\n",
       "    font-size: 13px;\n",
       "    color: #555;\n",
       "    margin-left: 4px;\n",
       "    line-height: 19px;\n",
       "  }\n",
       "</style>\n",
       "<div class=\"ansiout\"></div>"
      ]
     },
     "metadata": {},
     "output_type": "display_data"
    }
   ],
   "source": [
    "#traindates = [\"2010-12-31\",\"2008-12-31\",\"2003-12-31\",\"1990-12-31\",\"1980-12-31\"]\n",
    "#traindates = [\"2014-12-31\",\"2013-12-31\",\"2010-12-31\",\"2008-12-31\",\"2003-12-31\",\"1990-12-31\",\"1980-12-31\"]\n",
    "#traindates = [\"2017-08-31\",\"2016-08-31\",\"2015-08-31\",\"2013-08-31\",\"2010-08-31\",\"2008-08-31\",\"2003-08-31\",\"1990-08-31\",\"1980-08-31\"]\n",
    "#traindates = [\"2017-10-31\",\"2016-10-31\",\"2015-10-31\",\"2013-10-31\",\"2010-10-31\",\"2008-10-31\",\"2003-10-31\",\"1990-10-31\",\"1980-10-31\"]\n",
    "#traindates = [\"1980-12-21\"]\n",
    "#traindates = [\"2017-06-31\",\"2016-06-31\",\"2015-06-31\",\"2013-06-31\",\"2010-06-31\",\"2008-06-31\",\"2003-06-31\",\"1990-06-31\",\"1980-06-31\"]\n",
    "#traindates = [\"2017-07-31\",\"2016-07-31\",\"2015-07-31\",\"2013-07-31\",\"2010-07-31\",\"2008-07-31\",\"2003-07-31\",\"1990-07-31\",\"1980-07-31\"]\n",
    "#traindates = [\"2017-09-31\",\"2016-09-31\",\"2015-09-31\",\"2013-09-31\",\"2010-09-31\",\"2008-09-31\",\"2003-09-31\",\"1990-09-31\",\"1980-09-31\"]\n",
    "#traindates = [\"2016-11-31\",\"2015-11-31\",\"2013-11-31\",\"2010-11-31\",\"2008-11-31\",\"2003-11-31\",\"1990-11-31\",\"1980-11-31\"]\n",
    "#traindates = [\"2017-04-31\",\"2016-04-31\",\"2015-04-31\",\"2013-04-31\",\"2010-04-31\",\"2008-04-31\",\"2003-04-31\",\"1990-04-31\",\"1980-04-31\"]\n",
    "#traindates = [\"2016-08-31\",\"2015-08-31\",\"2013-08-31\",\"2010-08-31\",\"2008-08-31\",\"2003-08-31\",\"1990-08-31\",\"1980-08-31\"]\n",
    "#traindates = [\"2017-02-31\",\"2016-02-31\",\"2015-02-31\",\"2013-02-31\",\"2010-02-31\",\"2008-02-31\",\"2003-02-31\",\"1990-02-31\",\"1980-02-31\"]\n",
    "#traindates = [\"2008-08-31\",\"2003-08-31\",\"1990-08-31\",\"1980-08-31\"]\n",
    "#traindates = [\"2014-12-15\",\"2013-12-15\",\"2010-12-15\",\"2008-12-15\",\"2003-12-15\",\"1990-12-15\",\"1980-12-15\"]\n",
    "traindates = [\"2003-12-31\"]\n",
    "\n",
    "biglist = []\n",
    "for i in traindates:\n",
    "  small = []\n",
    "  dftrai = dftemptemp.where((col(\"DATEFORMAT\") > i))\n",
    "  training_df=dftrai.select(['features','Next_Adj_Close'])\n",
    "  test_df=dftest.select(['features','Next_Adj_Close'])\n",
    "  \n",
    "  from pyspark.ml.regression import LinearRegression\n",
    "  lin_Reg=LinearRegression(labelCol='Next_Adj_Close')\n",
    "  lr_model = lin_Reg.fit(training_df)\n",
    "  training_predictions=lr_model.evaluate(training_df)\n",
    "  small.append(training_predictions.rootMeanSquaredError)\n",
    "  test_results=lr_model.evaluate(test_df)\n",
    "  small.append(test_results.rootMeanSquaredError)\n",
    "  \n",
    "  results=test_results.predictions\n",
    "  #results = test_results.toPandas()\n",
    "  small.append(smape(results))\n",
    "  biglist.append(small)"
   ]
  },
  {
   "cell_type": "code",
   "execution_count": 55,
   "metadata": {
    "collapsed": false
   },
   "outputs": [
    {
     "data": {
      "text/html": [
       "<style scoped>\n",
       "  .ansiout {\n",
       "    display: block;\n",
       "    unicode-bidi: embed;\n",
       "    white-space: pre-wrap;\n",
       "    word-wrap: break-word;\n",
       "    word-break: break-all;\n",
       "    font-family: \"Source Code Pro\", \"Menlo\", monospace;;\n",
       "    font-size: 13px;\n",
       "    color: #555;\n",
       "    margin-left: 4px;\n",
       "    line-height: 19px;\n",
       "  }\n",
       "</style>\n",
       "<div class=\"ansiout\"></div>"
      ]
     },
     "metadata": {},
     "output_type": "display_data"
    }
   ],
   "source": [
    "df1 = training_predictions.predictions.toPandas()\n",
    "df2 = test_results.predictions.toPandas()\n",
    "df1 = df2.drop(['features'],axis=1)\n",
    "df2 = df2.drop(['features'],axis=1)\n"
   ]
  },
  {
   "cell_type": "code",
   "execution_count": 56,
   "metadata": {
    "collapsed": false
   },
   "outputs": [
    {
     "data": {
      "text/html": [
       "<style scoped>\n",
       "  .ansiout {\n",
       "    display: block;\n",
       "    unicode-bidi: embed;\n",
       "    white-space: pre-wrap;\n",
       "    word-wrap: break-word;\n",
       "    word-break: break-all;\n",
       "    font-family: \"Source Code Pro\", \"Menlo\", monospace;;\n",
       "    font-size: 13px;\n",
       "    color: #555;\n",
       "    margin-left: 4px;\n",
       "    line-height: 19px;\n",
       "  }\n",
       "</style>\n",
       "<div class=\"ansiout\"></div>"
      ]
     },
     "metadata": {},
     "output_type": "display_data"
    }
   ],
   "source": [
    "dates = dftemptemp.toPandas()['Date']"
   ]
  },
  {
   "cell_type": "code",
   "execution_count": 57,
   "metadata": {
    "collapsed": false
   },
   "outputs": [
    {
     "data": {
      "text/html": [
       "<style scoped>\n",
       "  .ansiout {\n",
       "    display: block;\n",
       "    unicode-bidi: embed;\n",
       "    white-space: pre-wrap;\n",
       "    word-wrap: break-word;\n",
       "    word-break: break-all;\n",
       "    font-family: \"Source Code Pro\", \"Menlo\", monospace;;\n",
       "    font-size: 13px;\n",
       "    color: #555;\n",
       "    margin-left: 4px;\n",
       "    line-height: 19px;\n",
       "  }\n",
       "</style>\n",
       "<div class=\"ansiout\"><span class=\"ansired\">Out[</span><span class=\"ansired\">105</span><span class=\"ansired\">]: </span>\n",
       "     Next_Adj_Close  prediction\n",
       "739      146.203695  164.122731\n",
       "740      156.499589  162.217897\n",
       "741      155.483940  162.375802\n",
       "742      155.563599  162.978159\n",
       "743      157.067158  158.415694\n",
       "</div>"
      ]
     },
     "metadata": {},
     "output_type": "display_data"
    }
   ],
   "source": [
    "df3 = pd.concat([df1, df2],ignore_index=True)\n",
    "df3 = "
   ]
  },
  {
   "cell_type": "code",
   "execution_count": 58,
   "metadata": {
    "collapsed": false
   },
   "outputs": [
    {
     "data": {
      "text/html": [
       "<style scoped>\n",
       "  .ansiout {\n",
       "    display: block;\n",
       "    unicode-bidi: embed;\n",
       "    white-space: pre-wrap;\n",
       "    word-wrap: break-word;\n",
       "    word-break: break-all;\n",
       "    font-family: \"Source Code Pro\", \"Menlo\", monospace;;\n",
       "    font-size: 13px;\n",
       "    color: #555;\n",
       "    margin-left: 4px;\n",
       "    line-height: 19px;\n",
       "  }\n",
       "</style>\n",
       "<div class=\"ansiout\"><span class=\"ansired\">---------------------------------------------------------------------------</span>\n",
       "<span class=\"ansired\">ValueError</span>                                Traceback (most recent call last)\n",
       "<span class=\"ansigreen\">&lt;command-2971540086765910&gt;</span> in <span class=\"ansicyan\">&lt;module&gt;</span><span class=\"ansiblue\">()</span>\n",
       "<span class=\"ansigreen\">----&gt; 1</span><span class=\"ansiyellow\"> </span>df3<span class=\"ansiyellow\">.</span>set_index<span class=\"ansiyellow\">(</span>dates<span class=\"ansiyellow\">)</span><span class=\"ansiyellow\"></span>\n",
       "\n",
       "<span class=\"ansigreen\">/databricks/python/lib/python3.5/site-packages/pandas/core/frame.py</span> in <span class=\"ansicyan\">set_index</span><span class=\"ansiblue\">(self, keys, drop, append, inplace, verify_integrity)</span>\n",
       "<span class=\"ansigreen\">   2933</span>         index<span class=\"ansiyellow\">.</span>_cleanup<span class=\"ansiyellow\">(</span><span class=\"ansiyellow\">)</span><span class=\"ansiyellow\"></span>\n",
       "<span class=\"ansigreen\">   2934</span> <span class=\"ansiyellow\"></span>\n",
       "<span class=\"ansigreen\">-&gt; 2935</span><span class=\"ansiyellow\">         </span>frame<span class=\"ansiyellow\">.</span>index <span class=\"ansiyellow\">=</span> index<span class=\"ansiyellow\"></span>\n",
       "<span class=\"ansigreen\">   2936</span> <span class=\"ansiyellow\"></span>\n",
       "<span class=\"ansigreen\">   2937</span>         <span class=\"ansigreen\">if</span> <span class=\"ansigreen\">not</span> inplace<span class=\"ansiyellow\">:</span><span class=\"ansiyellow\"></span>\n",
       "\n",
       "<span class=\"ansigreen\">/databricks/python/lib/python3.5/site-packages/pandas/core/generic.py</span> in <span class=\"ansicyan\">__setattr__</span><span class=\"ansiblue\">(self, name, value)</span>\n",
       "<span class=\"ansigreen\">   2755</span>         <span class=\"ansigreen\">try</span><span class=\"ansiyellow\">:</span><span class=\"ansiyellow\"></span>\n",
       "<span class=\"ansigreen\">   2756</span>             object<span class=\"ansiyellow\">.</span>__getattribute__<span class=\"ansiyellow\">(</span>self<span class=\"ansiyellow\">,</span> name<span class=\"ansiyellow\">)</span><span class=\"ansiyellow\"></span>\n",
       "<span class=\"ansigreen\">-&gt; 2757</span><span class=\"ansiyellow\">             </span><span class=\"ansigreen\">return</span> object<span class=\"ansiyellow\">.</span>__setattr__<span class=\"ansiyellow\">(</span>self<span class=\"ansiyellow\">,</span> name<span class=\"ansiyellow\">,</span> value<span class=\"ansiyellow\">)</span><span class=\"ansiyellow\"></span>\n",
       "<span class=\"ansigreen\">   2758</span>         <span class=\"ansigreen\">except</span> AttributeError<span class=\"ansiyellow\">:</span><span class=\"ansiyellow\"></span>\n",
       "<span class=\"ansigreen\">   2759</span>             <span class=\"ansigreen\">pass</span><span class=\"ansiyellow\"></span>\n",
       "\n",
       "<span class=\"ansigreen\">/databricks/python/lib/python3.5/site-packages/pandas/lib.cpython-35m-x86_64-linux-gnu.so</span> in <span class=\"ansicyan\">pandas.lib.AxisProperty.__set__ (pandas/lib.c:44872)</span><span class=\"ansiblue\">()</span>\n",
       "\n",
       "<span class=\"ansigreen\">/databricks/python/lib/python3.5/site-packages/pandas/core/generic.py</span> in <span class=\"ansicyan\">_set_axis</span><span class=\"ansiblue\">(self, axis, labels)</span>\n",
       "<span class=\"ansigreen\">    446</span> <span class=\"ansiyellow\"></span>\n",
       "<span class=\"ansigreen\">    447</span>     <span class=\"ansigreen\">def</span> _set_axis<span class=\"ansiyellow\">(</span>self<span class=\"ansiyellow\">,</span> axis<span class=\"ansiyellow\">,</span> labels<span class=\"ansiyellow\">)</span><span class=\"ansiyellow\">:</span><span class=\"ansiyellow\"></span>\n",
       "<span class=\"ansigreen\">--&gt; 448</span><span class=\"ansiyellow\">         </span>self<span class=\"ansiyellow\">.</span>_data<span class=\"ansiyellow\">.</span>set_axis<span class=\"ansiyellow\">(</span>axis<span class=\"ansiyellow\">,</span> labels<span class=\"ansiyellow\">)</span><span class=\"ansiyellow\"></span>\n",
       "<span class=\"ansigreen\">    449</span>         self<span class=\"ansiyellow\">.</span>_clear_item_cache<span class=\"ansiyellow\">(</span><span class=\"ansiyellow\">)</span><span class=\"ansiyellow\"></span>\n",
       "<span class=\"ansigreen\">    450</span> <span class=\"ansiyellow\"></span>\n",
       "\n",
       "<span class=\"ansigreen\">/databricks/python/lib/python3.5/site-packages/pandas/core/internals.py</span> in <span class=\"ansicyan\">set_axis</span><span class=\"ansiblue\">(self, axis, new_labels)</span>\n",
       "<span class=\"ansigreen\">   2800</span>             raise ValueError(&apos;Length mismatch: Expected axis has %d elements, &apos;\n",
       "<span class=\"ansigreen\">   2801</span>                              <span class=\"ansiblue\">&apos;new values have %d elements&apos;</span> <span class=\"ansiyellow\">%</span><span class=\"ansiyellow\"></span>\n",
       "<span class=\"ansigreen\">-&gt; 2802</span><span class=\"ansiyellow\">                              (old_len, new_len))\n",
       "</span><span class=\"ansigreen\">   2803</span> <span class=\"ansiyellow\"></span>\n",
       "<span class=\"ansigreen\">   2804</span>         self<span class=\"ansiyellow\">.</span>axes<span class=\"ansiyellow\">[</span>axis<span class=\"ansiyellow\">]</span> <span class=\"ansiyellow\">=</span> new_labels<span class=\"ansiyellow\"></span>\n",
       "\n",
       "<span class=\"ansired\">ValueError</span>: Length mismatch: Expected axis has 1488 elements, new values have 8760 elements</div>"
      ]
     },
     "metadata": {},
     "output_type": "display_data"
    }
   ],
   "source": [
    "df3.set_index(dates)"
   ]
  },
  {
   "cell_type": "code",
   "execution_count": 59,
   "metadata": {
    "collapsed": false
   },
   "outputs": [
    {
     "data": {
      "text/html": [
       "<style scoped>\n",
       "  .table-result-container {\n",
       "    max-height: 300px;\n",
       "    overflow: auto;\n",
       "  }\n",
       "  table, th, td {\n",
       "    border: 1px solid black;\n",
       "    border-collapse: collapse;\n",
       "  }\n",
       "  th, td {\n",
       "    padding: 5px;\n",
       "  }\n",
       "  th {\n",
       "    text-align: left;\n",
       "  }\n",
       "</style><div class='table-result-container'><table class='table-result'><thead style='background-color: white'><tr><th>Next_Adj_Close</th><th>prediction</th></tr></thead><tbody><tr><td>91.28611427</td><td>98.69227182262455</td></tr><tr><td>91.40888682</td><td>97.03024102109953</td></tr><tr><td>90.94612874</td><td>95.35602149465694</td></tr><tr><td>95.78147847</td><td>92.2642029164117</td></tr><tr><td>93.91155807</td><td>91.68543050973904</td></tr><tr><td>94.4309804</td><td>92.23057837570036</td></tr><tr><td>88.22624451</td><td>93.13372602296863</td></tr><tr><td>88.85899536</td><td>91.66793933585836</td></tr><tr><td>91.92830915</td><td>93.14312423177512</td></tr><tr><td>91.06890129</td><td>91.26667348554122</td></tr><tr><td>89.22731301</td><td>90.85243350675626</td></tr><tr><td>90.99334895</td><td>90.7098517765346</td></tr><tr><td>91.72054022</td><td>89.9518215713565</td></tr><tr><td>89.27086119</td><td>94.45717236454698</td></tr><tr><td>90.21085431</td><td>92.484393653197</td></tr><tr><td>90.19186455</td><td>92.76144824035339</td></tr><tr><td>89.50823319</td><td>88.04553179680306</td></tr><tr><td>88.96702504</td><td>88.1712214375209</td></tr><tr><td>89.24237655</td><td>91.25770853320387</td></tr><tr><td>91.75851974</td><td>89.94222666001838</td></tr><tr><td>93.16376197</td><td>88.39655767050226</td></tr><tr><td>91.3977143</td><td>90.04677196580826</td></tr><tr><td>91.18882694</td><td>90.73426007648447</td></tr><tr><td>91.98639686</td><td>88.7980988946216</td></tr><tr><td>89.90701815</td><td>89.34405637707448</td></tr><tr><td>91.24579622</td><td>89.3061025151419</td></tr><tr><td>91.8724583</td><td>88.88047328990751</td></tr><tr><td>92.0148815</td><td>88.0177047153262</td></tr><tr><td>91.80599414</td><td>88.15122783251945</td></tr><tr><td>95.45202804</td><td>90.74253607612297</td></tr><tr><td>95.66091539</td><td>92.18952218780055</td></tr><tr><td>96.37303139</td><td>90.59515953362154</td></tr><tr><td>97.80675826</td><td>90.14579492559449</td></tr><tr><td>96.72434195</td><td>90.92896628188021</td></tr><tr><td>95.92677203</td><td>88.92794757367267</td></tr><tr><td>96.01222595</td><td>90.06515690328513</td></tr><tr><td>96.05970035</td><td>89.97063511659269</td></tr><tr><td>97.09464227</td><td>89.996755456821</td></tr><tr><td>97.34150914</td><td>90.53062009508574</td></tr><tr><td>99.29745441</td><td>94.06615979934406</td></tr><tr><td>100.6172427</td><td>94.00965961040276</td></tr><tr><td>100.4558298</td><td>94.87939814071626</td></tr><tr><td>100.5697683</td><td>96.24250208856085</td></tr><tr><td>100.5602734</td><td>95.33082767546557</td></tr><tr><td>101.3293587</td><td>94.97761180717691</td></tr><tr><td>100.7691608</td><td>95.11750933578026</td></tr><tr><td>100.3323963</td><td>95.28175740216557</td></tr><tr><td>99.87664209</td><td>95.91816769819661</td></tr><tr><td>102.2408672</td><td>96.94147533283319</td></tr><tr><td>104.0259046</td><td>98.98917216654536</td></tr><tr><td>103.4846965</td><td>100.30145611320745</td></tr><tr><td>104.4341845</td><td>100.2393013395133</td></tr><tr><td>105.5071059</td><td>100.21692868596824</td></tr><tr><td>104.2632766</td><td>100.50864188778223</td></tr><tr><td>105.3551878</td><td>101.26702896877077</td></tr><tr><td>103.0574269</td><td>100.83399625314792</td></tr><tr><td>103.1713654</td><td>100.21293593034909</td></tr><tr><td>103.5131811</td><td>100.1005074461608</td></tr><tr><td>104.8614541</td><td>102.61392348994877</td></tr><tr><td>106.3806348</td><td>104.14350326908868</td></tr><tr><td>106.4376041</td><td>103.60359117315477</td></tr><tr><td>104.3012561</td><td>104.58441348108602</td></tr><tr><td>102.0509696</td><td>106.11270257559272</td></tr><tr><td>101.5097614</td><td>104.91296256168982</td></tr><tr><td>101.7186488</td><td>105.69683882709137</td></tr><tr><td>100.6172427</td><td>103.98080694867201</td></tr><tr><td>100.3418912</td><td>104.2304815907354</td></tr><tr><td>99.77219841</td><td>104.80280016061693</td></tr><tr><td>99.07907217</td><td>105.69429285546732</td></tr><tr><td>92.87891557</td><td>107.48918019749726</td></tr><tr><td>90.03994647</td><td>107.54911788784898</td></tr><tr><td>89.00500456</td><td>105.95999423472927</td></tr><tr><td>88.91005576</td><td>103.73429402230488</td></tr><tr><td>90.37226727</td><td>103.23846878192705</td></tr><tr><td>89.43227415</td><td>103.32114295031033</td></tr><tr><td>89.07146872</td><td>101.53643190485889</td></tr><tr><td>88.57471664</td><td>100.98834002670935</td></tr><tr><td>88.64158711</td><td>99.85480307534499</td></tr><tr><td>89.24342136</td><td>99.32403925818062</td></tr><tr><td>88.37410522</td><td>92.89232525505724</td></tr><tr><td>86.30112059</td><td>89.85356081210841</td></tr><tr><td>86.47307323</td><td>88.19779007727232</td></tr><tr><td>89.68285589</td><td>86.79305311435132</td></tr><tr><td>89.31029183</td><td>86.8928086529503</td></tr><tr><td>90.33245476</td><td>85.68222239111492</td></tr><tr><td>89.98854947</td><td>85.05675204181364</td></tr><tr><td>90.96294778</td><td>84.55571336619175</td></tr><tr><td>92.11885165</td><td>85.09505809657344</td></tr><tr><td>93.52313157</td><td>85.06036838270654</td></tr><tr><td>95.16623459</td><td>84.73286867893694</td></tr><tr><td>95.92091563</td><td>83.64835795408544</td></tr><tr><td>95.86359809</td><td>84.24282421505723</td></tr><tr><td>95.39550478</td><td>87.10781701431961</td></tr><tr><td>94.05809534</td><td>86.74404948211247</td></tr><tr><td>93.35117892</td><td>88.07883644722278</td></tr><tr><td>93.54223742</td><td>87.31329134272073</td></tr><tr><td>94.22049506</td><td>88.67890078091534</td></tr><tr><td>94.60261204</td><td>90.44035104615352</td></tr><tr><td>94.51663572</td><td>91.9597172474621</td></tr><tr><td>95.19489337</td><td>93.8906997291017</td></tr><tr><td>94.41155355</td><td>94.58507348822116</td></tr><tr><td>92.98816779</td><td>94.6270957173399</td></tr><tr><td>93.10280289</td><td>94.31459198333391</td></tr><tr><td>92.7971093</td><td>93.62394872592301</td></tr><tr><td>93.18877921</td><td>92.83564542696058</td></tr><tr><td>91.06802995</td><td>93.2611504522664</td></tr><tr><td>90.84831269</td><td>95.08238574002326</td></tr><tr><td>91.62209958</td><td>94.4461835771865</td></tr><tr><td>91.27819429</td><td>94.51537775102815</td></tr><tr><td>91.80360514</td><td>95.397216126893</td></tr><tr><td>89.22431551</td><td>94.58544281965965</td></tr><tr><td>87.92511777</td><td>93.61954202420702</td></tr><tr><td>89.40582108</td><td>93.90302129418887</td></tr><tr><td>90.17960797</td><td>93.62854903756431</td></tr><tr><td>91.32595892</td><td>93.6901239158625</td></tr><tr><td>91.60299373</td><td>91.4024847601695</td></tr><tr><td>90.74323052</td><td>91.35527462193465</td></tr><tr><td>91.25908844</td><td>91.56148738268985</td></tr><tr><td>91.65075835</td><td>91.27188711654537</td></tr><tr><td>92.35767477</td><td>91.51915261038664</td></tr><tr><td>92.64426251</td><td>89.51665411263036</td></tr><tr><td>93.06459119</td><td>88.33396458745722</td></tr><tr><td>92.53918034</td><td>89.4673313227836</td></tr><tr><td>94.37334185</td><td>89.7458311748486</td></tr><tr><td>94.36378893</td><td>90.83642411370033</td></tr><tr><td>95.36684601</td><td>91.3327436676334</td></tr><tr><td>95.40505771</td><td>90.45916755037092</td></tr><tr><td>95.49103403</td><td>91.13445817759748</td></tr><tr><td>94.98472903</td><td>91.63257837178412</td></tr><tr><td>94.24915383</td><td>92.34114069922623</td></tr><tr><td>92.98816779</td><td>92.82349231202193</td></tr><tr><td>92.34812184</td><td>93.35825155828218</td></tr><tr><td>98.34735848</td><td>93.1679123923592</td></tr><tr><td>99.67521499</td><td>95.12886531289985</td></tr><tr><td>99.55102697</td><td>95.09107863974384</td></tr><tr><td>101.3087651</td><td>96.0976122896626</td></tr><tr><td>99.80895594</td><td>95.91923351100911</td></tr><tr><td>101.0603891</td><td>95.80857373281663</td></tr><tr><td>101.6813292</td><td>95.67020628404305</td></tr><tr><td>103.2276307</td><td>94.64370692049454</td></tr><tr><td>104.0824184</td><td>93.4474038216647</td></tr><tr><td>104.5050102</td><td>93.39977901262716</td></tr><tr><td>103.7270572</td><td>98.67317183893874</td></tr><tr><td>103.6598267</td><td>99.88907004861744</td></tr><tr><td>103.8999357</td><td>99.97122990796072</td></tr><tr><td>105.1485021</td><td>101.02976771755743</td></tr><tr><td>105.0524585</td><td>99.86936855317708</td></tr><tr><td>104.8987888</td><td>100.94034074759725</td></tr><tr><td>104.7643278</td><td>101.43228309576853</td></tr><tr><td>105.0332498</td><td>103.0765613316546</td></tr><tr><td>104.2168794</td><td>103.79877999151142</td></tr><tr><td>104.5434276</td><td>104.83692435446267</td></tr><tr><td>103.7558703</td><td>104.37786396973138</td></tr><tr><td>103.3140699</td><td>104.17242787462067</td></tr><tr><td>102.7089954</td><td>104.37703728350914</td></tr><tr><td>102.5937431</td><td>105.63502636889291</td></tr><tr><td>101.8061858</td><td>105.64394455983233</td></tr><tr><td>101.9022294</td><td>105.28268066338603</td></tr><tr><td>102.5073039</td><td>105.36715537505313</td></tr><tr><td>103.4677396</td><td>105.63884095991773</td></tr><tr><td>103.4389265</td><td>104.68915237686588</td></tr><tr><td>104.0728141</td><td>105.01526196595955</td></tr><tr><td>101.3451767</td><td>104.66369160037584</td></tr><tr><td>99.04973529</td><td>104.17694327056893</td></tr><tr><td>101.2683418</td><td>104.04574957201055</td></tr><tr><td>103.6790354</td><td>103.68517948036879</td></tr><tr><td>107.3478999</td><td>102.3470279180558</td></tr><tr><td>110.9975556</td><td>102.4517398772241</td></tr><tr><td>110.3732724</td><td>102.94688785417463</td></tr><tr><td>109.0862885</td><td>103.95972105508201</td></tr><tr><td>109.0766842</td><td>104.14548107430062</td></tr><tr><td>109.0574754</td><td>104.59262642262263</td></tr><tr><td>110.0851417</td><td>102.31340604383138</td></tr><tr><td>108.2507094</td><td>100.55026226275697</td></tr><tr><td>108.4139835</td><td>102.0757709619021</td></tr><tr><td>108.615675</td><td>104.14185328900646</td></tr><tr><td>109.4416497</td><td>108.50088116944073</td></tr><tr><td>107.7416785</td><td>111.71843937009396</td></tr><tr><td>108.5772576</td><td>111.04136384612877</td></tr><tr><td>108.0682267</td><td>110.02188220094399</td></tr><tr><td>108.5292358</td><td>109.51120232724554</td></tr><tr><td>108.5772576</td><td>108.95019399549756</td></tr><tr><td>109.3840236</td><td>109.62952778210956</td></tr><tr><td>109.5472977</td><td>108.66787989916293</td></tr><tr><td>111.4585647</td><td>109.0595435478225</td></tr><tr><td>111.6986737</td><td>109.55139278470517</td></tr><tr><td>112.6975268</td><td>110.55406381552598</td></tr><tr><td>112.3517699</td><td>108.90068508744457</td></tr><tr><td>112.9760532</td><td>109.42847731365816</td></tr><tr><td>112.8992183</td><td>109.137387165816</td></tr><tr><td>112.8223834</td><td>109.85674133324949</td></tr><tr><td>112.4862309</td><td>109.47986132157246</td></tr><tr><td>112.4286048</td><td>110.46050092321968</td></tr><tr><td>111.9868044</td><td>110.73500488745901</td></tr><tr><td>112.9952619</td><td>113.26585188301021</td></tr><tr><td>113.5715233</td><td>113.44828464331317</td></tr><tr><td>111.0167643</td><td>114.17637189047434</td></tr><tr><td>109.9506807</td><td>113.81816519714812</td></tr><tr><td>109.2207495</td><td>114.45275729360264</td></tr><tr><td>109.0478711</td><td>114.38633315335062</td></tr><tr><td>107.0789779</td><td>114.32800590760905</td></tr><tr><td>107.1750214</td><td>113.7168011799414</td></tr><tr><td>106.0321029</td><td>113.33817643413715</td></tr><tr><td>105.0763369</td><td>112.90778313336068</td></tr><tr><td>106.5920467</td><td>113.92313830124158</td></tr><tr><td>107.2195698</td><td>114.46560474314288</td></tr><tr><td>107.0457942</td><td>112.5873122143206</td></tr><tr><td>104.0626457</td><td>111.67373122172432</td></tr><tr><td>104.6805146</td><td>110.96171856713079</td></tr><tr><td>102.0545716</td><td>110.65430738100179</td></tr><tr><td>103.4061599</td><td>107.83016953690799</td></tr><tr><td>106.1865702</td><td>107.69388783669922</td></tr><tr><td>106.1479534</td><td>106.56313821921606</td></tr><tr><td>106.2541496</td><td>105.72203836815186</td></tr><tr><td>107.8664014</td><td>106.29250083233387</td></tr><tr><td>107.9339808</td><td>107.24252208692303</td></tr><tr><td>107.3836913</td><td>106.81421874574482</td></tr><tr><td>107.9243266</td><td>104.5452829407999</td></tr><tr><td>107.7119341</td><td>105.12925363904844</td></tr><tr><td>107.6057379</td><td>102.87188129943843</td></tr><tr><td>106.6982429</td><td>103.87673693862916</td></tr><tr><td>105.7038601</td><td>105.30464513171466</td></tr><tr><td>106.0996824</td><td>104.85953207889452</td></tr><tr><td>105.3370004</td><td>104.8675384861715</td></tr><tr><td>106.1479534</td><td>106.71496596586928</td></tr><tr><td>107.1906072</td><td>107.56153750983708</td></tr><tr><td>108.2429152</td><td>107.05108257254915</td></tr><tr><td>110.0096343</td><td>108.04023406279566</td></tr><tr><td>109.3821111</td><td>108.17824958864435</td></tr><tr><td>111.2067553</td><td>108.15699183815957</td></tr><tr><td>111.2067553</td><td>107.80096215675155</td></tr><tr><td>111.8149701</td><td>106.93250895115625</td></tr><tr><td>111.9597831</td><td>107.05125866735602</td></tr><tr><td>112.6066147</td><td>106.33965211090003</td></tr><tr><td>112.9058949</td><td>106.94432365649766</td></tr><tr><td>113.0120911</td><td>108.08242144292706</td></tr><tr><td>112.2687176</td><td>109.22166768844158</td></tr><tr><td>112.4907642</td><td>110.92579641763882</td></tr><tr><td>113.2051752</td><td>110.57985405202601</td></tr><tr><td>112.7224651</td><td>112.17628623833957</td></tr><tr><td>112.6935025</td><td>112.16178500401327</td></tr><tr><td>111.8149701</td><td>112.66557034061793</td></tr><tr><td>112.1335587</td><td>112.36403059540976</td></tr><tr><td>112.0080541</td><td>113.40320790328724</td></tr><tr><td>112.577652</td><td>113.24329036638244</td></tr><tr><td>113.8326983</td><td>113.32314465564423</td></tr><tr><td>114.8753522</td><td>112.64789255083588</td></tr><tr><td>114.9912026</td><td>112.50088702510186</td></tr><tr><td>115.6090715</td><td>113.88210044589187</td></tr><tr><td>115.1263614</td><td>113.4526262483979</td></tr><tr><td>114.9236232</td><td>113.32183697841742</td></tr><tr><td>115.8504266</td><td>112.8286319459163</td></tr><tr><td>115.8407724</td><td>113.45039547385068</td></tr><tr><td>115.6380341</td><td>113.22543242010647</td></tr><tr><td>115.8504266</td><td>113.69128275028402</td></tr><tr><td>115.9276602</td><td>115.10324946229241</td></tr><tr><td>115.821464</td><td>116.38193709382222</td></tr><tr><td>117.6654166</td><td>116.04030155053067</td></tr><tr><td>117.7233418</td><td>116.76088136227315</td></tr><tr><td>117.732996</td><td>116.23603363161749</td></tr><tr><td>117.4240616</td><td>116.31105749034805</td></tr><tr><td>117.1537439</td><td>117.33386470979985</td></tr><tr><td>124.2978535</td><td>117.14903752862801</td></tr><tr><td>124.0854611</td><td>116.98511011742653</td></tr><tr><td>124.6164422</td><td>116.74814795345208</td></tr><tr><td>125.7846007</td><td>117.10735360855824</td></tr><tr><td>126.9817218</td><td>116.7726580615639</td></tr><tr><td>127.4740861</td><td>118.43881743274062</td></tr><tr><td>128.3912353</td><td>118.4070131950782</td></tr><tr><td>128.1003625</td><td>118.15050983950948</td></tr><tr><td>129.2347663</td><td>117.78717579735724</td></tr><tr><td>130.9121325</td><td>117.81789583381374</td></tr><tr><td>131.3872247</td><td>126.32695483730674</td></tr><tr><td>131.2272447</td><td>125.57958198925894</td></tr><tr><td>131.5908356</td><td>125.57152642590847</td></tr><tr><td>132.54102</td><td>126.44929563881976</td></tr><tr><td>132.9385461</td><td>127.59747760057007</td></tr><tr><td>132.3761921</td><td>127.84656918954613</td></tr><tr><td>132.5022369</td><td>128.62650314813243</td></tr><tr><td>132.7640224</td><td>128.47633484260768</td></tr><tr><td>132.822197</td><td>129.64337857742612</td></tr><tr><td>135.5370094</td><td>131.9680882347052</td></tr><tr><td>134.7322614</td><td>132.34467449575732</td></tr><tr><td>135.5273136</td><td>131.69546867456597</td></tr><tr><td>135.1007002</td><td>132.02310713720112</td></tr><tr><td>135.2752239</td><td>133.02077360320004</td></tr><tr><td>134.7710444</td><td>133.03071405039668</td></tr><tr><td>134.4607802</td><td>132.6276008390198</td></tr><tr><td>134.906785</td><td>132.20719603805787</td></tr><tr><td>134.9649596</td><td>132.23690545508055</td></tr><tr><td>134.7613487</td><td>132.92144296957235</td></tr><tr><td>136.1866252</td><td>136.1991072769349</td></tr><tr><td>136.4096276</td><td>135.44887528182176</td></tr><tr><td>135.7309245</td><td>136.04566789128887</td></tr><tr><td>137.156201</td><td>135.6686595308296</td></tr><tr><td>135.5854881</td><td>135.94426616870646</td></tr><tr><td>137.117418</td><td>135.71663914449084</td></tr><tr><td>136.6326301</td><td>135.23550619452146</td></tr><tr><td>136.3611488</td><td>135.83727857097142</td></tr><tr><td>136.593847</td><td>135.64149597545304</td></tr><tr><td>139.4250086</td><td>135.30971233856405</td></tr><tr><td>139.7352728</td><td>136.85458763802296</td></tr><tr><td>139.5510534</td><td>137.0007680823088</td></tr><tr><td>139.2892679</td><td>136.4612694679564</td></tr><tr><td>139.328051</td><td>137.79530089485286</td></tr><tr><td>140.3654971</td><td>136.9698653063117</td></tr><tr><td>139.6383152</td><td>137.65219894332813</td></tr><tr><td>139.2892679</td><td>137.17877707183482</td></tr><tr><td>138.9790037</td><td>137.00490317307117</td></tr><tr><td>138.8141758</td><td>136.90542718916583</td></tr><tr><td>137.3210289</td><td>140.04746219294384</td></tr><tr><td>137.4858568</td><td>139.8290514867624</td></tr><tr><td>136.7586749</td><td>139.28115719122616</td></tr><tr><td>137.5149441</td><td>138.95395350330477</td></tr><tr><td>136.9041113</td><td>139.08089182610138</td></tr><tr><td>136.3999319</td><td>140.19505872816376</td></tr><tr><td>138.1063854</td><td>139.69343375961762</td></tr><tr><td>137.9415575</td><td>139.24158646498586</td></tr><tr><td>139.2698764</td><td>138.55399353505095</td></tr><tr><td>140.1327989</td><td>138.74876109792478</td></tr><tr><td>139.3086594</td><td>137.36003764108852</td></tr><tr><td>139.4153128</td><td>137.52289549710054</td></tr><tr><td>139.2795722</td><td>137.13729717470721</td></tr><tr><td>142.1204294</td><td>137.6668038149652</td></tr><tr><td>143.022135</td><td>137.16738715560086</td></tr><tr><td>142.5858259</td><td>136.46217155288434</td></tr><tr><td>142.0719506</td><td>138.2584745897699</td></tr><tr><td>144.42802</td><td>137.98067901839704</td></tr><tr><td>148.3548022</td><td>139.0695084844249</td></tr><tr><td>149.3049866</td><td>140.1198015473052</td></tr><tr><td>148.5971962</td><td>139.10364130131666</td></tr><tr><td>149.8770363</td><td>138.6736865518675</td></tr><tr><td>151.970155</td><td>139.09374000817752</td></tr><tr><td>151.5807376</td><td>141.90699571716004</td></tr><tr><td>151.3568226</td><td>142.47514574724482</td></tr><tr><td>146.274925</td><td>142.2082637821377</td></tr><tr><td>148.5043398</td><td>141.68117192622583</td></tr><tr><td>149.0105825</td><td>144.32486713201672</td></tr><tr><td>149.9159781</td><td>149.0891265599529</td></tr><tr><td>149.7310048</td><td>149.63336650070937</td></tr><tr><td>149.2831747</td><td>148.37513132926415</td></tr><tr><td>149.7991528</td><td>149.7327614123883</td></tr><tr><td>149.5460315</td><td>152.38731902301288</td></tr><tr><td>149.6044441</td><td>151.96725642758247</td></tr><tr><td>148.7185194</td><td>151.58809608215518</td></tr><tr><td>149.1274077</td><td>148.15270707289517</td></tr><tr><td>151.3373517</td><td>149.7700475431334</td></tr><tr><td>149.8575654</td><td>149.8100154657186</td></tr><tr><td>150.3638081</td><td>150.5571947394268</td></tr><tr><td>151.2594682</td><td>150.2845604103934</td></tr><tr><td>150.8895217</td><td>149.73421474539145</td></tr><tr><td>145.0385247</td><td>149.04894758760497</td></tr><tr><td>141.5727095</td><td>148.89084187361073</td></tr><tr><td>142.7117555</td><td>148.8191405745606</td></tr><tr><td>141.3195881</td><td>148.04663266868272</td></tr><tr><td>140.4726052</td><td>148.52377839760334</td></tr><tr><td>138.5060471</td><td>150.9690797805332</td></tr><tr><td>142.4683696</td><td>149.63624103798236</td></tr><tr><td>141.1735566</td><td>150.6485852123667</td></tr><tr><td>142.0108041</td><td>150.9823070368485</td></tr><tr><td>141.7771536</td><td>150.3426146452059</td></tr><tr><td>142.4099569</td><td>145.60656301971687</td></tr><tr><td>141.9621269</td><td>141.26575672533443</td></tr><tr><td>139.9274208</td><td>142.39601403683218</td></tr><tr><td>141.9718623</td><td>141.04664292351686</td></tr><tr><td>139.8787436</td><td>138.62915159831914</td></tr><tr><td>140.2097484</td><td>136.53872628069234</td></tr><tr><td>139.7035058</td><td>140.01516344512004</td></tr><tr><td>140.2778965</td><td>138.59947568347434</td></tr><tr><td>138.9538772</td><td>138.91895091236108</td></tr><tr><td>140.3655154</td><td>138.83059034312748</td></tr><tr><td>141.2222338</td><td>139.99887005383596</td></tr><tr><td>141.6797993</td><td>139.76086126985786</td></tr><tr><td>141.8842434</td><td>138.4282117578332</td></tr><tr><td>143.8605369</td><td>139.75928420151354</td></tr><tr><td>145.0969373</td><td>137.73783375870505</td></tr><tr><td>145.6031799</td><td>138.29696530754813</td></tr><tr><td>146.1094226</td><td>138.08739972825117</td></tr><tr><td>147.0245536</td><td>138.6910035266783</td></tr><tr><td>146.3625439</td><td>137.3743786904124</td></tr><tr><td>146.2943959</td><td>139.42903840224074</td></tr><tr><td>148.0662452</td><td>140.72900299092078</td></tr><tr><td>148.6990486</td><td>140.8117588762599</td></tr><tr><td>149.4</td><td>141.1013797150373</td></tr><tr><td>146.5767235</td><td>143.64451021503453</td></tr><tr><td>145.5447673</td><td>144.40998196274643</td></tr><tr><td>144.7951388</td><td>145.3765096023228</td></tr><tr><td>146.0802163</td><td>145.22624797448316</td></tr><tr><td>152.9826404</td><td>146.1597099561684</td></tr><tr><td>151.4541769</td><td>145.45562014542145</td></tr><tr><td>152.2524827</td><td>145.11823661882318</td></tr><tr><td>154.6084582</td><td>147.06781996999985</td></tr><tr><td>155.8448585</td><td>147.44826689409683</td></tr><tr><td>156.7989293</td><td>147.89820266986953</td></tr><tr><td>151.8241235</td><td>145.7724891413652</td></tr><tr><td>153.9355071</td><td>144.54122938591195</td></tr><tr><td>156.2521642</td><td>144.4564674685082</td></tr><tr><td>157.9627759</td><td>144.85258193860057</td></tr><tr><td>157.3274059</td><td>151.67302804861174</td></tr><tr><td>154.3069543</td><td>150.25836721075768</td></tr><tr><td>153.955057</td><td>151.00903707371617</td></tr><tr><td>153.6715842</td><td>153.1212977464113</td></tr><tr><td>156.1837397</td><td>155.17993348156472</td></tr><tr><td>156.3792382</td><td>155.60472351437056</td></tr><tr><td>155.6852186</td><td>151.94123177893516</td></tr><tr><td>156.2619391</td><td>152.89634884620466</td></tr><tr><td>157.8357019</td><td>154.86744343745454</td></tr><tr><td>159.243291</td><td>156.91863366112693</td></tr><tr><td>159.6733877</td><td>156.2836911431806</td></tr><tr><td>160.3087578</td><td>153.99138380060504</td></tr><tr><td>160.3576324</td><td>153.81482654679257</td></tr><tr><td>158.4319723</td><td>153.08522405602935</td></tr><tr><td>158.2657986</td><td>154.9195480374717</td></tr><tr><td>157.6304285</td><td>155.29016649333312</td></tr><tr><td>155.0596234</td><td>155.24861344466774</td></tr><tr><td>157.8650267</td><td>155.7582015438834</td></tr><tr><td>157.2394315</td><td>158.0807971068259</td></tr><tr><td>156.0566657</td><td>159.3151626734591</td></tr><tr><td>154.7175011</td><td>158.91841242514204</td></tr><tr><td>156.281489</td><td>159.72016539831134</td></tr><tr><td>155.0987231</td><td>159.89112773836348</td></tr><tr><td>155.1573727</td><td>158.63206810029408</td></tr><tr><td>152.5572428</td><td>158.33197380649767</td></tr><tr><td>149.9375631</td><td>157.75064970369806</td></tr><tr><td>148.4713245</td><td>155.64427263462494</td></tr><tr><td>147.1614846</td><td>157.37394801914752</td></tr><tr><td>149.69319</td><td>157.1828679938135</td></tr><tr><td>150.7586568</td><td>155.4773054621544</td></tr><tr><td>149.830039</td><td>154.63791345588197</td></tr><tr><td>150.6511326</td><td>156.320590657847</td></tr><tr><td>150.3481099</td><td>155.00097475872576</td></tr><tr><td>151.0030299</td><td>154.6584222384082</td></tr><tr><td>150.0255374</td><td>151.95043598351174</td></tr><tr><td>151.892548</td><td>149.40509583776577</td></tr><tr><td>151.8045737</td><td>147.21341479292425</td></tr><tr><td>152.3324196</td><td>146.17292852876653</td></tr><tr><td>152.3910691</td><td>148.03454331730518</td></tr><tr><td>153.0264392</td><td>148.35009226290902</td></tr><tr><td>152.4888184</td><td>147.44622220341932</td></tr><tr><td>153.4565359</td><td>148.39718055838352</td></tr><tr><td>156.281489</td><td>147.87611052912405</td></tr><tr><td>156.8582095</td><td>148.82965516742092</td></tr><tr><td>156.1641899</td><td>147.9137680559097</td></tr><tr><td>152.4692685</td><td>149.9386546938499</td></tr><tr><td>152.7331915</td><td>149.85937921303776</td></tr><tr><td>152.6549921</td><td>151.14289659632402</td></tr><tr><td>153.56406</td><td>151.81580100346957</td></tr><tr><td>152.8895902</td><td>151.91569311425758</td></tr><tr><td>153.8670827</td><td>151.81748159426115</td></tr><tr><td>159.3801399</td><td>152.7095207175663</td></tr><tr><td>162.9675372</td><td>155.83302432069536</td></tr><tr><td>165.2353196</td><td>156.25997595919614</td></tr><tr><td>163.1337109</td><td>155.70274261095858</td></tr><tr><td>164.3262516</td><td>152.52962006387384</td></tr><tr><td>168.6174434</td><td>152.8328947005964</td></tr><tr><td>170.3280551</td><td>152.7788540771785</td></tr><tr><td>170.8754509</td><td>153.23655419248837</td></tr><tr><td>172.273265</td><td>152.1692460911695</td></tr><tr><td>171.9213678</td><td>153.47576074341623</td></tr><tr><td>171.3544222</td><td>159.27359814834062</td></tr><tr><td>170.6677095</td><td>162.6614011700218</td></tr><tr><td>168.0876321</td><td>164.19859320112755</td></tr><tr><td>165.8705313</td><td>162.35437474880575</td></tr><tr><td>167.8521877</td><td>162.57438534306516</td></tr><tr><td>166.9202206</td><td>166.92413041657437</td></tr><tr><td>166.7534475</td><td>168.8116307647024</td></tr><tr><td>169.8534645</td><td>168.9581958432259</td></tr><tr><td>171.6389174</td><td>170.23850776700476</td></tr><tr><td>171.6487276</td><td>169.91882555473796</td></tr><tr><td>170.7854317</td><td>169.75417818171638</td></tr><tr><td>169.7847933</td><td>169.33964674298738</td></tr><tr><td>166.2629385</td><td>167.26748715299607</td></tr><tr><td>168.5879513</td><td>165.13324898201097</td></tr><tr><td>167.8031368</td><td>166.8639221483553</td></tr><tr><td>166.5768643</td><td>165.9916648499884</td></tr><tr><td>166.4199014</td><td>165.07306182237448</td></tr><tr><td>165.80186</td><td>168.40875936432963</td></tr><tr><td>166.1059756</td><td>170.43463945571887</td></tr><tr><td>166.1550265</td><td>170.39185598050176</td></tr><tr><td>169.3923861</td><td>169.8985604951539</td></tr><tr><td>168.4407986</td><td>169.34184199677418</td></tr><tr><td>168.9999788</td><td>166.24391094896225</td></tr><tr><td>168.9509279</td><td>167.99197709339217</td></tr><tr><td>170.6677095</td><td>167.2787115613778</td></tr><tr><td>173.0712037</td><td>166.2878584815835</td></tr><tr><td>171.2268898</td><td>166.10554281662064</td></tr><tr><td>171.0404964</td><td>165.3289235816943</td></tr><tr><td>171.6879683</td><td>165.3375100181305</td></tr><tr><td>171.6879683</td><td>164.85172029794796</td></tr><tr><td>167.3322482</td><td>168.55745578023425</td></tr><tr><td>167.3616787</td><td>167.50499279070073</td></tr><tr><td>167.8325674</td><td>168.33431631928772</td></tr><tr><td>166.017684</td><td>168.1594173227096</td></tr><tr><td>168.9901687</td><td>169.54877609636117</td></tr><tr><td>168.9607381</td><td>172.43223130574597</td></tr><tr><td>169.7455526</td><td>170.16139308526851</td></tr><tr><td>171.6781581</td><td>169.91609079309103</td></tr><tr><td>171.0404964</td><td>170.79259994466463</td></tr><tr><td>171.020876</td><td>170.1889315285863</td></tr><tr><td>170.9816353</td><td>166.01690663028262</td></tr><tr><td>171.9528432</td><td>165.9951677305769</td></tr><tr><td>173.7284858</td><td>166.48029947722114</td></tr><tr><td>172.8455696</td><td>164.86327536914723</td></tr><tr><td>175.7003321</td><td>167.32641595483472</td></tr><tr><td>175.857295</td><td>168.0088742136578</td></tr><tr><td>175.0724806</td><td>168.27507312354066</td></tr><tr><td>173.6401942</td><td>170.41625280564597</td></tr><tr><td>173.6794349</td><td>170.25308388136204</td></tr><tr><td>170.912964</td><td>170.0513053676076</td></tr><tr><td>167.8619979</td><td>169.7798043475059</td></tr><tr><td>168.2544051</td><td>170.84405699069703</td></tr><tr><td>164.7717911</td><td>172.8415293170176</td></tr><tr><td>163.8005832</td><td>173.05653638198703</td></tr><tr><td>164.2518515</td><td>175.3966296552553</td></tr><tr><td>164.5952078</td><td>175.49653845608452</td></tr><tr><td>157.4533964</td><td>174.44735882525833</td></tr><tr><td>153.5195141</td><td>172.8232552655587</td></tr><tr><td>159.9353721</td><td>173.51014146736077</td></tr><tr><td>156.5116191</td><td>170.6590478558211</td></tr><tr><td>152.2049499</td><td>167.47566196091975</td></tr><tr><td>154.059074</td><td>167.33461779556478</td></tr><tr><td>160.2643816</td><td>164.20839771090527</td></tr><tr><td>161.8698819</td><td>162.250726787095</td></tr><tr><td>164.8543393</td><td>162.39827143347554</td></tr><tr><td>170.3898677</td><td>162.74094756428553</td></tr><tr><td>169.8382848</td><td>156.19538763304217</td></tr><tr><td>169.2670025</td><td>153.29113211956906</td></tr><tr><td>168.4987264</td><td>157.90317790417635</td></tr><tr><td>169.9072327</td><td>153.9121662829176</td></tr><tr><td>172.8621411</td><td>149.53960201000655</td></tr><tr><td>176.2799851</td><td>149.92472226189773</td></tr><tr><td>175.7087028</td><td>156.6376588997349</td></tr><tr><td>175.4427611</td><td>158.1047778263012</td></tr><tr><td>172.3696564</td><td>161.90430828825492</td></tr><tr><td>173.5614694</td><td>167.69974206021107</td></tr><tr><td>174.1623008</td><td>168.03518059466137</td></tr><tr><td>174.0145554</td><td>167.69857576465267</td></tr><tr><td>172.3992054</td><td>167.3926144441598</td></tr><tr><td>174.2804971</td><td>168.34408246122518</td></tr><tr><td>177.2748043</td><td>171.06803578355164</td></tr><tr><td>178.9886512</td><td>174.77335894462328</td></tr><tr><td>177.2649546</td><td>173.9503302800324</td></tr><tr><td>175.7579513</td><td>174.29109237936052</td></tr><tr><td>175.9647949</td><td>172.4143983415987</td></tr><tr><td>175.3442641</td><td>172.9191264236565</td></tr><tr><td>172.6651472</td><td>173.4707450559606</td></tr><tr><td>172.606049</td><td>173.2655547251535</td></tr><tr><td>168.6957203</td><td>171.94131857171408</td></tr><tr><td>166.3120941</td><td>173.99049335949076</td></tr><tr><td>162.4608635</td><td>177.2209187300208</td></tr><tr><td>170.1731744</td><td>179.49823631766844</td></tr><tr><td>165.8097597</td><td>178.50355314229375</td></tr><tr><td>163.9777165</td><td>177.0596136768911</td></tr><tr><td>165.2581768</td><td>177.5547340604212</td></tr><tr><td>164.1747104</td><td>176.71943691141257</td></tr><tr><td>165.8590082</td><td>174.0420397843087</td></tr><tr><td>169.0306099</td><td>173.88139101592628</td></tr><tr><td>170.2027235</td><td>170.159277990266</td></tr><tr><td>165.8491585</td><td>168.16059130034046</td></tr><tr><td>167.4940575</td><td>163.30914213651909</td></tr><tr><td>170.6459598</td><td>169.36296522201746</td></tr><tr><td>169.8481345</td><td>165.36422066728414</td></tr><tr><td>171.5225826</td><td>162.86972190225708</td></tr><tr><td>172.1037146</td><td>164.38153865236507</td></tr><tr><td>173.1773313</td><td>162.07388724889154</td></tr><tr><td>175.5609574</td><td>162.33263575310252</td></tr><tr><td>175.1669696</td><td>166.9015947180916</td></tr><tr><td>170.2027235</td><td>167.78153628376538</td></tr><tr><td>163.2291397</td><td>164.54478201787208</td></tr><tr><td>162.7563544</td><td>166.57232467281744</td></tr><tr><td>160.4909246</td><td>168.51041956517292</td></tr><tr><td>161.1902529</td><td>168.55574520577738</td></tr><tr><td>161.7516855</td><td>170.28363184332363</td></tr><tr><td>159.8802435</td><td>171.13195866188926</td></tr><tr><td>162.7760538</td><td>172.63072983087864</td></tr><tr><td>166.5583365</td><td>175.16716467705658</td></tr><tr><td>173.9160584</td><td>174.71811313540832</td></tr><tr><td>174.2312486</td><td>170.32451380469013</td></tr><tr><td>181.0669367</td><td>164.41028718475195</td></tr><tr><td>182.3769461</td><td>163.33061849366413</td></tr><tr><td>183.2535689</td><td>160.6722094239683</td></tr><tr><td>184.5438789</td><td>160.18345768544373</td></tr><tr><td>187.1835971</td><td>158.45253439146802</td></tr><tr><td>186.4744191</td><td>156.21810432052405</td></tr><tr><td>186.039355</td><td>159.75186753077173</td></tr><tr><td>184.3485375</td><td>163.2319038539248</td></tr><tr><td>186.0690184</td><td>171.42682831594004</td></tr><tr><td>184.8923677</td><td>171.6394699020509</td></tr><tr><td>184.2199959</td><td>178.8812835460243</td></tr><tr><td>185.5251883</td><td>180.1721550440899</td></tr><tr><td>185.0604607</td><td>180.4721236167885</td></tr><tr><td>186.2469992</td><td>181.43548159724673</td></tr><tr><td>186.039355</td><td>184.35000553620853</td></tr><tr><td>186.4645313</td><td>183.80293159053167</td></tr><tr><td>185.7921594</td><td>183.77015799114247</td></tr><tr><td>185.3966466</td><td>182.5806461784988</td></tr><tr><td>184.7737139</td><td>184.23793309983864</td></tr><tr><td>188.1059096</td><td>183.64264118615597</td></tr><tr><td>189.6780731</td><td>182.97108868223586</td></tr><tr><td>191.1414707</td><td>184.00682802628398</td></tr><tr><td>191.8039547</td><td>183.66331616832133</td></tr><tr><td>191.289788</td><td>184.77444420701795</td></tr><tr><td>189.5495315</td><td>184.13441464788934</td></tr><tr><td>189.0848039</td><td>185.2553661896161</td></tr><tr><td>190.1230251</td><td>184.8655610618996</td></tr><tr><td>188.5607494</td><td>184.2297732821554</td></tr><tr><td>188.6596276</td><td>184.4097361602236</td></tr><tr><td>186.7216146</td><td>187.81232716853037</td></tr><tr><td>186.6227364</td><td>189.9843316146272</td></tr><tr><td>183.606951</td><td>190.83783510366675</td></tr><tr><td>184.4078645</td><td>190.08682365248592</td></tr><tr><td>183.3795311</td><td>189.76534948950984</td></tr><tr><td>182.8455887</td><td>188.4001162045147</td></tr><tr><td>180.1264379</td><td>187.91446964597378</td></tr><tr><td>182.3610855</td><td>188.89235064591412</td></tr><tr><td>182.0941143</td><td>187.82490700314088</td></tr><tr><td>183.4190824</td><td>187.67699042879258</td></tr><tr><td>183.0334573</td><td>185.89558815089958</td></tr><tr><td>185.0802363</td><td>185.89093927363456</td></tr><tr><td>181.8568066</td><td>182.57182684706197</td></tr><tr><td>183.3202041</td><td>182.95098197301309</td></tr><tr><td>185.8613742</td><td>182.06766104885685</td></tr><tr><td>188.4420955</td><td>180.8909266866092</td></tr><tr><td>188.2146756</td><td>178.25636981627372</td></tr><tr><td>185.7723838</td><td>180.79629527364875</td></tr><tr><td>188.8870475</td><td>180.3058315492617</td></tr><tr><td>189.1836821</td><td>180.8698790934834</td></tr><tr><td>188.7683936</td><td>180.61651318575866</td></tr><tr><td>189.3023359</td><td>182.2681590627966</td></tr><tr><td>188.2641147</td><td>179.80968757785115</td></tr><tr><td>189.7275123</td><td>180.80402035904774</td></tr><tr><td>189.2924481</td><td>183.50194644622968</td></tr><tr><td>189.4605411</td><td>185.91620462558421</td></tr><tr><td>190.8349482</td><td>186.080155392836</td></tr><tr><td>192.6345317</td><td>184.23620435345424</td></tr><tr><td>192.0313746</td><td>186.907019260374</td></tr><tr><td>188.8376083</td><td>187.01887142218004</td></tr><tr><td>187.7796115</td><td>187.0578039575105</td></tr><tr><td>188.1553487</td><td>187.31744550031453</td></tr><tr><td>199.2395962</td><td>186.5443448486069</td></tr><tr><td>205.0635229</td><td>188.31973224593264</td></tr><tr><td>205.6567921</td><td>187.28912938836402</td></tr><tr><td>206.7246768</td><td>187.47094558146978</td></tr><tr><td>204.7866639</td><td>188.87882519024834</td></tr><tr><td>204.9250934</td><td>190.91722910808153</td></tr><tr><td>206.5368082</td><td>191.17104787061567</td></tr><tr><td>205.9237633</td><td>188.58003974873213</td></tr><tr><td>207.253392</td><td>187.35086917573744</td></tr><tr><td>208.126581</td><td>188.11237526470427</td></tr><tr><td>208.6127885</td><td>198.83613117901848</td></tr><tr><td>211.66895</td><td>205.7155237929386</td></tr><tr><td>215.8959785</td><td>204.99602162653161</td></tr><tr><td>213.7923868</td><td>205.27204503823998</td></tr><tr><td>213.3756375</td><td>203.77219141534215</td></tr><tr><td>213.3855601</td><td>203.69098300350208</td></tr><tr><td>213.8221546</td><td>205.20703541498142</td></tr><tr><td>214.486969</td><td>204.67012284416103</td></tr><tr><td>216.2531922</td><td>206.26011979488385</td></tr><tr><td>217.9995702</td><td>207.48916061997738</td></tr><tr><td>221.2541837</td><td>208.6749564360731</td></tr><tr><td>223.2883171</td><td>212.05625024859228</td></tr><tr><td>225.8681937</td><td>216.9101479848266</td></tr><tr><td>226.5925437</td><td>215.32419406494637</td></tr><tr><td>225.1140759</td><td>213.93238750916123</td></tr><tr><td>221.3732549</td><td>213.3465380731484</td></tr><tr><td>219.5871865</td><td>212.9469482346375</td></tr><tr><td>216.6401737</td><td>213.22840478392823</td></tr><tr><td>222.1174501</td><td>214.57580603225756</td></tr><tr><td>219.3589667</td><td>216.85726941411713</td></tr><tr><td>224.6576362</td><td>220.01792730152204</td></tr><tr><td>222.1075275</td><td>222.4581884590276</td></tr><tr><td>216.1936566</td><td>224.0557035900282</td></tr><tr><td>216.5508702</td><td>224.23555363114838</td></tr><tr><td>216.6798641</td><td>223.14902276765838</td></tr><tr><td>218.327016</td><td>220.25712929845292</td></tr><tr><td>215.9753593</td><td>219.3589713287589</td></tr><tr><td>219.0811338</td><td>215.9212648540896</td></tr><tr><td>220.4702981</td><td>220.53407201919674</td></tr><tr><td>218.7139975</td><td>217.4960923840265</td></tr><tr><td>223.2089363</td><td>222.90695282822196</td></tr><tr><td>223.9928219</td><td>220.27118096177912</td></tr><tr><td>225.5010574</td><td>215.53893110895115</td></tr><tr><td>227.5054231</td><td>216.29518582353512</td></tr><tr><td>230.2738291</td><td>215.09378878244024</td></tr><tr><td>226.2254074</td><td>216.34149807377935</td></tr><tr><td>222.5540446</td><td>213.3253355262966</td></tr><tr><td>222.0380693</td><td>215.75327637109467</td></tr><tr><td>225.1140759</td><td>217.46449725131765</td></tr><tr><td>214.685421</td><td>216.3733976584416</td></tr><tr><td>212.790204</td><td>220.22701403926658</td></tr><tr><td>220.3909173</td><td>220.8646039184705</td></tr><tr><td>215.6776813</td><td>222.46056329406645</td></tr><tr><td>220.4306077</td><td>224.33281693002323</td></tr><tr><td>219.4780379</td><td>227.60963556508068</td></tr><tr><td>214.3480526</td><td>224.2127757774972</td></tr><tr><td>217.6125887</td><td>220.7765497683008</td></tr><tr><td>218.9422174</td><td>220.5533871508742</td></tr><tr><td>221.0061186</td><td>223.26447322259241</td></tr><tr><td>213.4252506</td><td>214.40833776115096</td></tr><tr><td>218.0987962</td><td>212.03134360904892</td></tr><tr><td>214.6258854</td><td>217.16878774590646</td></tr><tr><td>210.5973089</td><td>213.7780541678718</td></tr><tr><td>211.6491048</td><td>216.7904141969542</td></tr><tr><td>217.1660716</td><td>215.41256383261964</td></tr><tr><td>220.5000659</td><td>211.7217396947807</td></tr><tr><td>205.8741503</td><td>214.59853991394402</td></tr><tr><td>200.0297376</td><td>215.7919120772134</td></tr><tr><td>202.1928649</td><td>217.76935557502793</td></tr><tr><td>208.325033</td><td>212.539130773495</td></tr><tr><td>207.6006831</td><td>215.29862234833297</td></tr><tr><td>203.5978304</td><td>212.86544150698228</td></tr><tr><td>193.3417652</td><td>208.64914429086753</td></tr><tr><td>191.4100403</td><td>208.53503935845322</td></tr><tr><td>186.0032021</td><td>214.1126252499613</td></tr><tr><td>190.593538</td><td>217.06815804402345</td></tr><tr><td>192.7044952</td><td>205.46691626706559</td></tr><tr><td>185.0672116</td><td>198.39550960785152</td></tr><tr><td>176.2250894</td><td>201.062693159402</td></tr><tr><td>176.0259425</td><td>206.04948430174625</td></tr><tr><td>171.5550947</td><td>202.93101393641518</td></tr><tr><td>173.875156</td><td>199.31056875395507</td></tr><tr><td>173.4967769</td><td>190.68816610585452</td></tr><tr><td>180.168198</td><td>189.70964953041073</td></tr><tr><td>178.784127</td><td>183.78237160270976</td></tr><tr><td>177.8182646</td><td>185.58983751381948</td></tr><tr><td>184.0316478</td><td>185.6255408519827</td></tr><tr><td>175.9363264</td><td>178.83599414914215</td></tr><tr><td>173.9747295</td><td>171.8688719382236</td></tr><tr><td>167.7713036</td><td>170.87840384331582</td></tr><tr><td>168.8765689</td><td>167.53557728473697</td></tr><tr><td>167.9107064</td><td>166.14457591530459</td></tr><tr><td>168.3787016</td><td>164.54726205771146</td></tr><tr><td>170.2208104</td><td>171.04537335062832</td></tr><tr><td>164.7741428</td><td>169.82349324081156</td></tr><tr><td>163.2407117</td><td>170.06497821810558</td></tr><tr><td>165.3616262</td><td>176.0278005010806</td></tr><tr><td>160.2037215</td><td>170.47344373712235</td></tr><tr><td>156.1610395</td><td>167.62068678161586</td></tr><tr><td>150.0870591</td><td>163.51675337503912</td></tr><tr><td>146.2036946</td><td>164.12273083180435</td></tr><tr><td>156.4995892</td><td>162.2178974482074</td></tr><tr><td>155.48394</td><td>162.37580153063675</td></tr><tr><td>155.5635988</td><td>162.9781593335939</td></tr><tr><td>157.0671579</td><td>158.41569423337648</td></tr><tr><td>91.28611427</td><td>98.69227182262455</td></tr><tr><td>91.40888682</td><td>97.03024102109953</td></tr><tr><td>90.94612874</td><td>95.35602149465694</td></tr><tr><td>95.78147847</td><td>92.2642029164117</td></tr><tr><td>93.91155807</td><td>91.68543050973904</td></tr><tr><td>94.4309804</td><td>92.23057837570036</td></tr><tr><td>88.22624451</td><td>93.13372602296863</td></tr><tr><td>88.85899536</td><td>91.66793933585836</td></tr><tr><td>91.92830915</td><td>93.14312423177512</td></tr><tr><td>91.06890129</td><td>91.26667348554122</td></tr><tr><td>89.22731301</td><td>90.85243350675626</td></tr><tr><td>90.99334895</td><td>90.7098517765346</td></tr><tr><td>91.72054022</td><td>89.9518215713565</td></tr><tr><td>89.27086119</td><td>94.45717236454698</td></tr><tr><td>90.21085431</td><td>92.484393653197</td></tr><tr><td>90.19186455</td><td>92.76144824035339</td></tr><tr><td>89.50823319</td><td>88.04553179680306</td></tr><tr><td>88.96702504</td><td>88.1712214375209</td></tr><tr><td>89.24237655</td><td>91.25770853320387</td></tr><tr><td>91.75851974</td><td>89.94222666001838</td></tr><tr><td>93.16376197</td><td>88.39655767050226</td></tr><tr><td>91.3977143</td><td>90.04677196580826</td></tr><tr><td>91.18882694</td><td>90.73426007648447</td></tr><tr><td>91.98639686</td><td>88.7980988946216</td></tr><tr><td>89.90701815</td><td>89.34405637707448</td></tr><tr><td>91.24579622</td><td>89.3061025151419</td></tr><tr><td>91.8724583</td><td>88.88047328990751</td></tr><tr><td>92.0148815</td><td>88.0177047153262</td></tr><tr><td>91.80599414</td><td>88.15122783251945</td></tr><tr><td>95.45202804</td><td>90.74253607612297</td></tr><tr><td>95.66091539</td><td>92.18952218780055</td></tr><tr><td>96.37303139</td><td>90.59515953362154</td></tr><tr><td>97.80675826</td><td>90.14579492559449</td></tr><tr><td>96.72434195</td><td>90.92896628188021</td></tr><tr><td>95.92677203</td><td>88.92794757367267</td></tr><tr><td>96.01222595</td><td>90.06515690328513</td></tr><tr><td>96.05970035</td><td>89.97063511659269</td></tr><tr><td>97.09464227</td><td>89.996755456821</td></tr><tr><td>97.34150914</td><td>90.53062009508574</td></tr><tr><td>99.29745441</td><td>94.06615979934406</td></tr><tr><td>100.6172427</td><td>94.00965961040276</td></tr><tr><td>100.4558298</td><td>94.87939814071626</td></tr><tr><td>100.5697683</td><td>96.24250208856085</td></tr><tr><td>100.5602734</td><td>95.33082767546557</td></tr><tr><td>101.3293587</td><td>94.97761180717691</td></tr><tr><td>100.7691608</td><td>95.11750933578026</td></tr><tr><td>100.3323963</td><td>95.28175740216557</td></tr><tr><td>99.87664209</td><td>95.91816769819661</td></tr><tr><td>102.2408672</td><td>96.94147533283319</td></tr><tr><td>104.0259046</td><td>98.98917216654536</td></tr><tr><td>103.4846965</td><td>100.30145611320745</td></tr><tr><td>104.4341845</td><td>100.2393013395133</td></tr><tr><td>105.5071059</td><td>100.21692868596824</td></tr><tr><td>104.2632766</td><td>100.50864188778223</td></tr><tr><td>105.3551878</td><td>101.26702896877077</td></tr><tr><td>103.0574269</td><td>100.83399625314792</td></tr><tr><td>103.1713654</td><td>100.21293593034909</td></tr><tr><td>103.5131811</td><td>100.1005074461608</td></tr><tr><td>104.8614541</td><td>102.61392348994877</td></tr><tr><td>106.3806348</td><td>104.14350326908868</td></tr><tr><td>106.4376041</td><td>103.60359117315477</td></tr><tr><td>104.3012561</td><td>104.58441348108602</td></tr><tr><td>102.0509696</td><td>106.11270257559272</td></tr><tr><td>101.5097614</td><td>104.91296256168982</td></tr><tr><td>101.7186488</td><td>105.69683882709137</td></tr><tr><td>100.6172427</td><td>103.98080694867201</td></tr><tr><td>100.3418912</td><td>104.2304815907354</td></tr><tr><td>99.77219841</td><td>104.80280016061693</td></tr><tr><td>99.07907217</td><td>105.69429285546732</td></tr><tr><td>92.87891557</td><td>107.48918019749726</td></tr><tr><td>90.03994647</td><td>107.54911788784898</td></tr><tr><td>89.00500456</td><td>105.95999423472927</td></tr><tr><td>88.91005576</td><td>103.73429402230488</td></tr><tr><td>90.37226727</td><td>103.23846878192705</td></tr><tr><td>89.43227415</td><td>103.32114295031033</td></tr><tr><td>89.07146872</td><td>101.53643190485889</td></tr><tr><td>88.57471664</td><td>100.98834002670935</td></tr><tr><td>88.64158711</td><td>99.85480307534499</td></tr><tr><td>89.24342136</td><td>99.32403925818062</td></tr><tr><td>88.37410522</td><td>92.89232525505724</td></tr><tr><td>86.30112059</td><td>89.85356081210841</td></tr><tr><td>86.47307323</td><td>88.19779007727232</td></tr><tr><td>89.68285589</td><td>86.79305311435132</td></tr><tr><td>89.31029183</td><td>86.8928086529503</td></tr><tr><td>90.33245476</td><td>85.68222239111492</td></tr><tr><td>89.98854947</td><td>85.05675204181364</td></tr><tr><td>90.96294778</td><td>84.55571336619175</td></tr><tr><td>92.11885165</td><td>85.09505809657344</td></tr><tr><td>93.52313157</td><td>85.06036838270654</td></tr><tr><td>95.16623459</td><td>84.73286867893694</td></tr><tr><td>95.92091563</td><td>83.64835795408544</td></tr><tr><td>95.86359809</td><td>84.24282421505723</td></tr><tr><td>95.39550478</td><td>87.10781701431961</td></tr><tr><td>94.05809534</td><td>86.74404948211247</td></tr><tr><td>93.35117892</td><td>88.07883644722278</td></tr><tr><td>93.54223742</td><td>87.31329134272073</td></tr><tr><td>94.22049506</td><td>88.67890078091534</td></tr><tr><td>94.60261204</td><td>90.44035104615352</td></tr><tr><td>94.51663572</td><td>91.9597172474621</td></tr><tr><td>95.19489337</td><td>93.8906997291017</td></tr><tr><td>94.41155355</td><td>94.58507348822116</td></tr><tr><td>92.98816779</td><td>94.6270957173399</td></tr><tr><td>93.10280289</td><td>94.31459198333391</td></tr><tr><td>92.7971093</td><td>93.62394872592301</td></tr><tr><td>93.18877921</td><td>92.83564542696058</td></tr><tr><td>91.06802995</td><td>93.2611504522664</td></tr><tr><td>90.84831269</td><td>95.08238574002326</td></tr><tr><td>91.62209958</td><td>94.4461835771865</td></tr><tr><td>91.27819429</td><td>94.51537775102815</td></tr><tr><td>91.80360514</td><td>95.397216126893</td></tr><tr><td>89.22431551</td><td>94.58544281965965</td></tr><tr><td>87.92511777</td><td>93.61954202420702</td></tr><tr><td>89.40582108</td><td>93.90302129418887</td></tr><tr><td>90.17960797</td><td>93.62854903756431</td></tr><tr><td>91.32595892</td><td>93.6901239158625</td></tr><tr><td>91.60299373</td><td>91.4024847601695</td></tr><tr><td>90.74323052</td><td>91.35527462193465</td></tr><tr><td>91.25908844</td><td>91.56148738268985</td></tr><tr><td>91.65075835</td><td>91.27188711654537</td></tr><tr><td>92.35767477</td><td>91.51915261038664</td></tr><tr><td>92.64426251</td><td>89.51665411263036</td></tr><tr><td>93.06459119</td><td>88.33396458745722</td></tr><tr><td>92.53918034</td><td>89.4673313227836</td></tr><tr><td>94.37334185</td><td>89.7458311748486</td></tr><tr><td>94.36378893</td><td>90.83642411370033</td></tr><tr><td>95.36684601</td><td>91.3327436676334</td></tr><tr><td>95.40505771</td><td>90.45916755037092</td></tr><tr><td>95.49103403</td><td>91.13445817759748</td></tr><tr><td>94.98472903</td><td>91.63257837178412</td></tr><tr><td>94.24915383</td><td>92.34114069922623</td></tr><tr><td>92.98816779</td><td>92.82349231202193</td></tr><tr><td>92.34812184</td><td>93.35825155828218</td></tr><tr><td>98.34735848</td><td>93.1679123923592</td></tr><tr><td>99.67521499</td><td>95.12886531289985</td></tr><tr><td>99.55102697</td><td>95.09107863974384</td></tr><tr><td>101.3087651</td><td>96.0976122896626</td></tr><tr><td>99.80895594</td><td>95.91923351100911</td></tr><tr><td>101.0603891</td><td>95.80857373281663</td></tr><tr><td>101.6813292</td><td>95.67020628404305</td></tr><tr><td>103.2276307</td><td>94.64370692049454</td></tr><tr><td>104.0824184</td><td>93.4474038216647</td></tr><tr><td>104.5050102</td><td>93.39977901262716</td></tr><tr><td>103.7270572</td><td>98.67317183893874</td></tr><tr><td>103.6598267</td><td>99.88907004861744</td></tr><tr><td>103.8999357</td><td>99.97122990796072</td></tr><tr><td>105.1485021</td><td>101.02976771755743</td></tr><tr><td>105.0524585</td><td>99.86936855317708</td></tr><tr><td>104.8987888</td><td>100.94034074759725</td></tr><tr><td>104.7643278</td><td>101.43228309576853</td></tr><tr><td>105.0332498</td><td>103.0765613316546</td></tr><tr><td>104.2168794</td><td>103.79877999151142</td></tr><tr><td>104.5434276</td><td>104.83692435446267</td></tr><tr><td>103.7558703</td><td>104.37786396973138</td></tr><tr><td>103.3140699</td><td>104.17242787462067</td></tr><tr><td>102.7089954</td><td>104.37703728350914</td></tr><tr><td>102.5937431</td><td>105.63502636889291</td></tr><tr><td>101.8061858</td><td>105.64394455983233</td></tr><tr><td>101.9022294</td><td>105.28268066338603</td></tr><tr><td>102.5073039</td><td>105.36715537505313</td></tr><tr><td>103.4677396</td><td>105.63884095991773</td></tr><tr><td>103.4389265</td><td>104.68915237686588</td></tr><tr><td>104.0728141</td><td>105.01526196595955</td></tr><tr><td>101.3451767</td><td>104.66369160037584</td></tr><tr><td>99.04973529</td><td>104.17694327056893</td></tr><tr><td>101.2683418</td><td>104.04574957201055</td></tr><tr><td>103.6790354</td><td>103.68517948036879</td></tr><tr><td>107.3478999</td><td>102.3470279180558</td></tr><tr><td>110.9975556</td><td>102.4517398772241</td></tr><tr><td>110.3732724</td><td>102.94688785417463</td></tr><tr><td>109.0862885</td><td>103.95972105508201</td></tr><tr><td>109.0766842</td><td>104.14548107430062</td></tr><tr><td>109.0574754</td><td>104.59262642262263</td></tr><tr><td>110.0851417</td><td>102.31340604383138</td></tr><tr><td>108.2507094</td><td>100.55026226275697</td></tr><tr><td>108.4139835</td><td>102.0757709619021</td></tr><tr><td>108.615675</td><td>104.14185328900646</td></tr><tr><td>109.4416497</td><td>108.50088116944073</td></tr><tr><td>107.7416785</td><td>111.71843937009396</td></tr><tr><td>108.5772576</td><td>111.04136384612877</td></tr><tr><td>108.0682267</td><td>110.02188220094399</td></tr><tr><td>108.5292358</td><td>109.51120232724554</td></tr><tr><td>108.5772576</td><td>108.95019399549756</td></tr><tr><td>109.3840236</td><td>109.62952778210956</td></tr><tr><td>109.5472977</td><td>108.66787989916293</td></tr><tr><td>111.4585647</td><td>109.0595435478225</td></tr><tr><td>111.6986737</td><td>109.55139278470517</td></tr><tr><td>112.6975268</td><td>110.55406381552598</td></tr><tr><td>112.3517699</td><td>108.90068508744457</td></tr><tr><td>112.9760532</td><td>109.42847731365816</td></tr><tr><td>112.8992183</td><td>109.137387165816</td></tr><tr><td>112.8223834</td><td>109.85674133324949</td></tr><tr><td>112.4862309</td><td>109.47986132157246</td></tr><tr><td>112.4286048</td><td>110.46050092321968</td></tr><tr><td>111.9868044</td><td>110.73500488745901</td></tr><tr><td>112.9952619</td><td>113.26585188301021</td></tr><tr><td>113.5715233</td><td>113.44828464331317</td></tr><tr><td>111.0167643</td><td>114.17637189047434</td></tr><tr><td>109.9506807</td><td>113.81816519714812</td></tr><tr><td>109.2207495</td><td>114.45275729360264</td></tr><tr><td>109.0478711</td><td>114.38633315335062</td></tr><tr><td>107.0789779</td><td>114.32800590760905</td></tr><tr><td>107.1750214</td><td>113.7168011799414</td></tr><tr><td>106.0321029</td><td>113.33817643413715</td></tr><tr><td>105.0763369</td><td>112.90778313336068</td></tr><tr><td>106.5920467</td><td>113.92313830124158</td></tr><tr><td>107.2195698</td><td>114.46560474314288</td></tr><tr><td>107.0457942</td><td>112.5873122143206</td></tr><tr><td>104.0626457</td><td>111.67373122172432</td></tr><tr><td>104.6805146</td><td>110.96171856713079</td></tr><tr><td>102.0545716</td><td>110.65430738100179</td></tr><tr><td>103.4061599</td><td>107.83016953690799</td></tr><tr><td>106.1865702</td><td>107.69388783669922</td></tr><tr><td>106.1479534</td><td>106.56313821921606</td></tr><tr><td>106.2541496</td><td>105.72203836815186</td></tr><tr><td>107.8664014</td><td>106.29250083233387</td></tr><tr><td>107.9339808</td><td>107.24252208692303</td></tr><tr><td>107.3836913</td><td>106.81421874574482</td></tr><tr><td>107.9243266</td><td>104.5452829407999</td></tr><tr><td>107.7119341</td><td>105.12925363904844</td></tr><tr><td>107.6057379</td><td>102.87188129943843</td></tr><tr><td>106.6982429</td><td>103.87673693862916</td></tr><tr><td>105.7038601</td><td>105.30464513171466</td></tr><tr><td>106.0996824</td><td>104.85953207889452</td></tr><tr><td>105.3370004</td><td>104.8675384861715</td></tr><tr><td>106.1479534</td><td>106.71496596586928</td></tr><tr><td>107.1906072</td><td>107.56153750983708</td></tr><tr><td>108.2429152</td><td>107.05108257254915</td></tr><tr><td>110.0096343</td><td>108.04023406279566</td></tr><tr><td>109.3821111</td><td>108.17824958864435</td></tr><tr><td>111.2067553</td><td>108.15699183815957</td></tr><tr><td>111.2067553</td><td>107.80096215675155</td></tr><tr><td>111.8149701</td><td>106.93250895115625</td></tr><tr><td>111.9597831</td><td>107.05125866735602</td></tr><tr><td>112.6066147</td><td>106.33965211090003</td></tr><tr><td>112.9058949</td><td>106.94432365649766</td></tr><tr><td>113.0120911</td><td>108.08242144292706</td></tr><tr><td>112.2687176</td><td>109.22166768844158</td></tr><tr><td>112.4907642</td><td>110.92579641763882</td></tr><tr><td>113.2051752</td><td>110.57985405202601</td></tr><tr><td>112.7224651</td><td>112.17628623833957</td></tr><tr><td>112.6935025</td><td>112.16178500401327</td></tr><tr><td>111.8149701</td><td>112.66557034061793</td></tr><tr><td>112.1335587</td><td>112.36403059540976</td></tr><tr><td>112.0080541</td><td>113.40320790328724</td></tr><tr><td>112.577652</td><td>113.24329036638244</td></tr><tr><td>113.8326983</td><td>113.32314465564423</td></tr><tr><td>114.8753522</td><td>112.64789255083588</td></tr><tr><td>114.9912026</td><td>112.50088702510186</td></tr><tr><td>115.6090715</td><td>113.88210044589187</td></tr><tr><td>115.1263614</td><td>113.4526262483979</td></tr><tr><td>114.9236232</td><td>113.32183697841742</td></tr><tr><td>115.8504266</td><td>112.8286319459163</td></tr><tr><td>115.8407724</td><td>113.45039547385068</td></tr><tr><td>115.6380341</td><td>113.22543242010647</td></tr><tr><td>115.8504266</td><td>113.69128275028402</td></tr><tr><td>115.9276602</td><td>115.10324946229241</td></tr></tbody></table></div>"
      ]
     },
     "metadata": {},
     "output_type": "display_data"
    }
   ],
   "source": [
    "display(sqlContext.createDataFrame(df3))"
   ]
  },
  {
   "cell_type": "code",
   "execution_count": 60,
   "metadata": {
    "collapsed": false
   },
   "outputs": [
    {
     "data": {
      "text/html": [
       "<style scoped>\n",
       "  .ansiout {\n",
       "    display: block;\n",
       "    unicode-bidi: embed;\n",
       "    white-space: pre-wrap;\n",
       "    word-wrap: break-word;\n",
       "    word-break: break-all;\n",
       "    font-family: \"Source Code Pro\", \"Menlo\", monospace;;\n",
       "    font-size: 13px;\n",
       "    color: #555;\n",
       "    margin-left: 4px;\n",
       "    line-height: 19px;\n",
       "  }\n",
       "</style>\n",
       "<div class=\"ansiout\">+--------------------+--------------+-----------------+\n",
       "            features|Next_Adj_Close|       prediction|\n",
       "+--------------------+--------------+-----------------+\n",
       "[96.90531952,99.5...|   91.28611427|98.69227182262455|\n",
       "[99.87074885,99.9...|   91.40888682|97.03024102109953|\n",
       "[94.96929082,96.6...|   90.94612874|95.35602149465694|\n",
       "[93.19381084,94.5...|   95.78147847| 92.2642029164117|\n",
       "[93.07103829,93.5...|   93.91155807|91.68543050973904|\n",
       "[93.46768807,93.5...|    94.4309804|92.23057837570036|\n",
       "[94.95984678,95.0...|   88.22624451|93.13372602296863|\n",
       "[94.7426338,95.56...|   88.85899536|91.66793933585836|\n",
       "[92.51383978,94.8...|   91.92830915|93.14312423177512|\n",
       "[90.85168831,92.2...|   91.06890129|91.26667348554122|\n",
       "[92.93882169,93.1...|   89.22731301|90.85243350675626|\n",
       "[89.81284365,92.7...|   90.99334895| 90.7098517765346|\n",
       "[91.66387596,92.4...|   91.72054022| 89.9518215713565|\n",
       "[93.14659063,95.8...|   89.27086119|94.45717236454698|\n",
       "[95.87591889,95.8...|   90.21085431|  92.484393653197|\n",
       "[94.37431615,95.2...|   90.19186455|92.76144824035339|\n",
       "[90.70058364,91.2...|   89.50823319|88.04553179680306|\n",
       "[88.57567409,89.2...|   88.96702504| 88.1712214375209|\n",
       "[89.52007833,91.9...|   89.24237655|91.25770853320387|\n",
       "[91.10667746,91.3...|   91.75851974|89.94222666001838|\n",
       "+--------------------+--------------+-----------------+\n",
       "only showing top 20 rows\n",
       "\n",
       "</div>"
      ]
     },
     "metadata": {},
     "output_type": "display_data"
    }
   ],
   "source": [
    "test_results.predictions.show()"
   ]
  },
  {
   "cell_type": "code",
   "execution_count": 61,
   "metadata": {
    "collapsed": false
   },
   "outputs": [
    {
     "data": {
      "text/html": [
       "<style scoped>\n",
       "  .ansiout {\n",
       "    display: block;\n",
       "    unicode-bidi: embed;\n",
       "    white-space: pre-wrap;\n",
       "    word-wrap: break-word;\n",
       "    word-break: break-all;\n",
       "    font-family: \"Source Code Pro\", \"Menlo\", monospace;;\n",
       "    font-size: 13px;\n",
       "    color: #555;\n",
       "    margin-left: 4px;\n",
       "    line-height: 19px;\n",
       "  }\n",
       "</style>\n",
       "<div class=\"ansiout\"></div>"
      ]
     },
     "metadata": {},
     "output_type": "display_data"
    }
   ],
   "source": [
    "#smape(results)"
   ]
  },
  {
   "cell_type": "markdown",
   "metadata": {},
   "source": [
    "### sMAPE function for pandas dataframes"
   ]
  },
  {
   "cell_type": "code",
   "execution_count": 62,
   "metadata": {
    "collapsed": false
   },
   "outputs": [
    {
     "data": {
      "text/html": [
       "<style scoped>\n",
       "  .ansiout {\n",
       "    display: block;\n",
       "    unicode-bidi: embed;\n",
       "    white-space: pre-wrap;\n",
       "    word-wrap: break-word;\n",
       "    word-break: break-all;\n",
       "    font-family: \"Source Code Pro\", \"Menlo\", monospace;;\n",
       "    font-size: 13px;\n",
       "    color: #555;\n",
       "    margin-left: 4px;\n",
       "    line-height: 19px;\n",
       "  }\n",
       "</style>\n",
       "<div class=\"ansiout\"></div>"
      ]
     },
     "metadata": {},
     "output_type": "display_data"
    }
   ],
   "source": [
    "def smape(df):\n",
    "  df['Numerator'] = df.Next_Adj_Close - df.prediction\n",
    "  df['Numerator'] = df['Numerator'].abs()\n",
    "  df['Denominator'] = ((df.prediction + df.Next_Adj_Close)/2)\n",
    "  df['total'] = df['Numerator'] /df['Denominator']\n",
    "  total = df['total'].sum()*100/(df['total'].count())\n",
    "  return total "
   ]
  },
  {
   "cell_type": "markdown",
   "metadata": {},
   "source": [
    "## sMAPE function for spark pandas dataframe, both functions work fine"
   ]
  },
  {
   "cell_type": "code",
   "execution_count": 63,
   "metadata": {
    "collapsed": true
   },
   "outputs": [],
   "source": [
    "# SMAPE Evaluation Metric\n",
    "from  pyspark.sql.functions import abs\n",
    "from pyspark.sql import functions as F\n",
    "def smape(results):\n",
    "  results = results.withColumn('Numerator', results.Next_Adj_Close - results.prediction)\n",
    "  results = results.withColumn('Numerator', abs(results.Numerator))\n",
    "  results = results.withColumn('denominator', (results.Next_Adj_Close + results.prediction)/2)\n",
    "  results = results.withColumn('SMAPE', (results.Numerator / results.denominator))\n",
    "  total = results.groupBy().agg(F.sum(\"SMAPE\")).collect()\n",
    "  x = total[0][0]*100/(results.count())\n",
    "  \n",
    "  return x"
   ]
  },
  {
   "cell_type": "code",
   "execution_count": 64,
   "metadata": {
    "collapsed": false
   },
   "outputs": [
    {
     "data": {
      "text/html": [
       "<style scoped>\n",
       "  .ansiout {\n",
       "    display: block;\n",
       "    unicode-bidi: embed;\n",
       "    white-space: pre-wrap;\n",
       "    word-wrap: break-word;\n",
       "    word-break: break-all;\n",
       "    font-family: \"Source Code Pro\", \"Menlo\", monospace;;\n",
       "    font-size: 13px;\n",
       "    color: #555;\n",
       "    margin-left: 4px;\n",
       "    line-height: 19px;\n",
       "  }\n",
       "</style>\n",
       "<div class=\"ansiout\"></div>"
      ]
     },
     "metadata": {},
     "output_type": "display_data"
    }
   ],
   "source": [
    "twoyears = pd.DataFrame(biglist, index=traindates, columns=['trian RMSE','test RMSE','SMAPE'])"
   ]
  },
  {
   "cell_type": "code",
   "execution_count": 65,
   "metadata": {
    "collapsed": false
   },
   "outputs": [
    {
     "data": {
      "text/html": [
       "<style scoped>\n",
       "  .ansiout {\n",
       "    display: block;\n",
       "    unicode-bidi: embed;\n",
       "    white-space: pre-wrap;\n",
       "    word-wrap: break-word;\n",
       "    word-break: break-all;\n",
       "    font-family: \"Source Code Pro\", \"Menlo\", monospace;;\n",
       "    font-size: 13px;\n",
       "    color: #555;\n",
       "    margin-left: 4px;\n",
       "    line-height: 19px;\n",
       "  }\n",
       "</style>\n",
       "<div class=\"ansiout\"><span class=\"ansired\">Out[</span><span class=\"ansired\">75</span><span class=\"ansired\">]: </span>\n",
       "            trian RMSE  test RMSE      SMAPE\n",
       "2014-12-15    4.218275  20.642610  10.977871\n",
       "2013-12-15    4.165917  10.975168   5.359071\n",
       "2010-12-15    3.839994   9.766168   4.601233\n",
       "2008-12-15    3.430462   8.989794   4.103345\n",
       "2003-12-15    2.828810   8.588474   3.809661\n",
       "1990-12-15    2.032883   8.542866   3.702072\n",
       "1980-12-15    1.738899   8.547802   3.687520\n",
       "</div>"
      ]
     },
     "metadata": {},
     "output_type": "display_data"
    }
   ],
   "source": [
    "twoyears"
   ]
  },
  {
   "cell_type": "code",
   "execution_count": 66,
   "metadata": {
    "collapsed": false
   },
   "outputs": [
    {
     "data": {
      "text/html": [
       "<style scoped>\n",
       "  .ansiout {\n",
       "    display: block;\n",
       "    unicode-bidi: embed;\n",
       "    white-space: pre-wrap;\n",
       "    word-wrap: break-word;\n",
       "    word-break: break-all;\n",
       "    font-family: \"Source Code Pro\", \"Menlo\", monospace;;\n",
       "    font-size: 13px;\n",
       "    color: #555;\n",
       "    margin-left: 4px;\n",
       "    line-height: 19px;\n",
       "  }\n",
       "</style>\n",
       "<div class=\"ansiout\">0.8741012960193892\n",
       "<span class=\"ansired\">Out[</span><span class=\"ansired\">182</span><span class=\"ansired\">]: </span>2.2412853744086902\n",
       "</div>"
      ]
     },
     "metadata": {},
     "output_type": "display_data"
    }
   ],
   "source": [
    "smape(results)"
   ]
  },
  {
   "cell_type": "markdown",
   "metadata": {},
   "source": [
    "## Cross validation and hyperparameter tuning for Linear regression"
   ]
  },
  {
   "cell_type": "markdown",
   "metadata": {},
   "source": [
    "### user defined function for rolling window cross validation with 10 folds"
   ]
  },
  {
   "cell_type": "code",
   "execution_count": 67,
   "metadata": {
    "collapsed": false
   },
   "outputs": [
    {
     "data": {
      "text/html": [
       "<style scoped>\n",
       "  .ansiout {\n",
       "    display: block;\n",
       "    unicode-bidi: embed;\n",
       "    white-space: pre-wrap;\n",
       "    word-wrap: break-word;\n",
       "    word-break: break-all;\n",
       "    font-family: \"Source Code Pro\", \"Menlo\", monospace;;\n",
       "    font-size: 13px;\n",
       "    color: #555;\n",
       "    margin-left: 4px;\n",
       "    line-height: 19px;\n",
       "  }\n",
       "</style>\n",
       "<div class=\"ansiout\"></div>"
      ]
     },
     "metadata": {},
     "output_type": "display_data"
    }
   ],
   "source": [
    "def tuning_lr(df1,df2,parameters = [0.0,1.0]):  \n",
    "  training_df=df1.select(['features','Next_Adj_Close'])\n",
    "  test_df=df2.select(['features','Next_Adj_Close'])  \n",
    "  smapevalues = []  \n",
    "  for i in parameters:\n",
    "    lin_Reg=lr(labelCol='Next_Adj_Close', regParam = i)\n",
    "    lr_model = lin_Reg.fit(training_df )\n",
    "    test_results=lr_model.evaluate(test_df)\n",
    "    results=test_results.predictions\n",
    "    smapevalues.append(smape(results))\n",
    "    #smapevalues.append(test_results.rootMeanSquaredError)\n",
    "  return np.array(smapevalues)\n"
   ]
  },
  {
   "cell_type": "code",
   "execution_count": 68,
   "metadata": {
    "collapsed": false
   },
   "outputs": [
    {
     "data": {
      "text/html": [
       "<style scoped>\n",
       "  .ansiout {\n",
       "    display: block;\n",
       "    unicode-bidi: embed;\n",
       "    white-space: pre-wrap;\n",
       "    word-wrap: break-word;\n",
       "    word-break: break-all;\n",
       "    font-family: \"Source Code Pro\", \"Menlo\", monospace;;\n",
       "    font-size: 13px;\n",
       "    color: #555;\n",
       "    margin-left: 4px;\n",
       "    line-height: 19px;\n",
       "  }\n",
       "</style>\n",
       "<div class=\"ansiout\"></div>"
      ]
     },
     "metadata": {},
     "output_type": "display_data"
    }
   ],
   "source": [
    "def crossval(df,hyperparameters):  \n",
    "  df = df.withColumn(\"rank\", percent_rank().over(Window.partitionBy().orderBy(\"date\")))\n",
    "  temp1 = df.where((col(\"rank\") > 0.0) & (col(\"rank\") < 0.1)).drop(\"rank\")\n",
    "  temp2 = df.where((col(\"rank\") > 0.1) & (col(\"rank\") < 0.2)).drop(\"rank\")\n",
    "  temp3 = df.where((col(\"rank\") > 0.2) & (col(\"rank\") < 0.3)).drop(\"rank\")\n",
    "  temp4 = df.where((col(\"rank\") > 0.3) & (col(\"rank\") < 0.4)).drop(\"rank\")\n",
    "  temp5 = df.where((col(\"rank\") > 0.4) & (col(\"rank\") < 0.5)).drop(\"rank\")\n",
    "  temp6 = df.where((col(\"rank\") > 0.5) & (col(\"rank\") < 0.6)).drop(\"rank\")\n",
    "  temp7 = df.where((col(\"rank\") > 0.6) & (col(\"rank\") < 0.7)).drop(\"rank\")\n",
    "  temp8 = df.where((col(\"rank\") > 0.7) & (col(\"rank\") < 0.8)).drop(\"rank\")\n",
    "  temp9 = df.where((col(\"rank\") > 0.8) & (col(\"rank\") < 0.9)).drop(\"rank\")\n",
    "  temp10 = df.where((col(\"rank\") > 0.9) & (col(\"rank\") < 1.0)).drop(\"rank\")  \n",
    "  temp = [temp1,temp2,temp3,temp4,temp5,temp6,temp7,temp8,temp9,temp10]  \n",
    "  Allresults = []\n",
    "  tempresults = [0] * len(parameters)\n",
    "  tempresults = np.array(tempresults)  \n",
    "  i = 0\n",
    "  j = 3\n",
    "  while j < 10:\n",
    "    tempresults = np.add(tempresults,tuning_lr(temp[i].unionAll(temp[i+1]).unionAll(temp[i+2]),temp[j],parameters))\n",
    "    i = i +1\n",
    "    j = j+1  \n",
    "  #return parameters[np.argmax(tempresults)]\n",
    "  return tempresults\n",
    "  "
   ]
  },
  {
   "cell_type": "code",
   "execution_count": 69,
   "metadata": {
    "collapsed": false
   },
   "outputs": [
    {
     "data": {
      "text/html": [
       "<style scoped>\n",
       "  .ansiout {\n",
       "    display: block;\n",
       "    unicode-bidi: embed;\n",
       "    white-space: pre-wrap;\n",
       "    word-wrap: break-word;\n",
       "    word-break: break-all;\n",
       "    font-family: \"Source Code Pro\", \"Menlo\", monospace;;\n",
       "    font-size: 13px;\n",
       "    color: #555;\n",
       "    margin-left: 4px;\n",
       "    line-height: 19px;\n",
       "  }\n",
       "</style>\n",
       "<div class=\"ansiout\"></div>"
      ]
     },
     "metadata": {},
     "output_type": "display_data"
    }
   ],
   "source": [
    "from pyspark.sql.functions import percent_rank\n",
    "from pyspark.sql import Window\n",
    "from pyspark.ml.regression import LinearRegression as lr\n",
    "# dftest = df.where((col(\"DATEFORMAT\") > \"2018-06-21\"))\n",
    "dftrain = df.where((col(\"DATEFORMAT\") < \"2018-06-21\"))\n",
    "#dftemptemp = dftrain"
   ]
  },
  {
   "cell_type": "code",
   "execution_count": 70,
   "metadata": {
    "collapsed": false
   },
   "outputs": [
    {
     "data": {
      "text/html": [
       "<style scoped>\n",
       "  .ansiout {\n",
       "    display: block;\n",
       "    unicode-bidi: embed;\n",
       "    white-space: pre-wrap;\n",
       "    word-wrap: break-word;\n",
       "    word-break: break-all;\n",
       "    font-family: \"Source Code Pro\", \"Menlo\", monospace;;\n",
       "    font-size: 13px;\n",
       "    color: #555;\n",
       "    margin-left: 4px;\n",
       "    line-height: 19px;\n",
       "  }\n",
       "</style>\n",
       "<div class=\"ansiout\"></div>"
      ]
     },
     "metadata": {},
     "output_type": "display_data"
    }
   ],
   "source": [
    "#dftrain.toPandas().head()"
   ]
  },
  {
   "cell_type": "markdown",
   "metadata": {},
   "source": [
    "### giving a list of hyperparameter values for linear regression where C values range from o to 50000"
   ]
  },
  {
   "cell_type": "code",
   "execution_count": 71,
   "metadata": {
    "collapsed": false
   },
   "outputs": [
    {
     "data": {
      "text/html": [
       "<style scoped>\n",
       "  .ansiout {\n",
       "    display: block;\n",
       "    unicode-bidi: embed;\n",
       "    white-space: pre-wrap;\n",
       "    word-wrap: break-word;\n",
       "    word-break: break-all;\n",
       "    font-family: \"Source Code Pro\", \"Menlo\", monospace;;\n",
       "    font-size: 13px;\n",
       "    color: #555;\n",
       "    margin-left: 4px;\n",
       "    line-height: 19px;\n",
       "  }\n",
       "</style>\n",
       "<div class=\"ansiout\"></div>"
      ]
     },
     "metadata": {},
     "output_type": "display_data"
    }
   ],
   "source": [
    "parameters = [0.0, 0.0001, 0.0005,0.001,0.005, 0.01,0.05, 0.1, 0.5, 0.75,1.0,2.0,5.0,10.0,50.0,100.0,500.0,5000.0,50000.0]\n",
    "smapeallvalues = crossval(dftrain,parameters)"
   ]
  },
  {
   "cell_type": "code",
   "execution_count": 72,
   "metadata": {
    "collapsed": false
   },
   "outputs": [
    {
     "data": {
      "text/html": [
       "<style scoped>\n",
       "  .ansiout {\n",
       "    display: block;\n",
       "    unicode-bidi: embed;\n",
       "    white-space: pre-wrap;\n",
       "    word-wrap: break-word;\n",
       "    word-break: break-all;\n",
       "    font-family: \"Source Code Pro\", \"Menlo\", monospace;;\n",
       "    font-size: 13px;\n",
       "    color: #555;\n",
       "    margin-left: 4px;\n",
       "    line-height: 19px;\n",
       "  }\n",
       "</style>\n",
       "<div class=\"ansiout\"><span class=\"ansired\">Out[</span><span class=\"ansired\">152</span><span class=\"ansired\">]: </span>\n",
       "array([  4.68618889,   4.68826844,   4.68354096,   4.68262267,\n",
       "         4.69561109,   4.71992032,   4.94938693,   5.20379718,\n",
       "         6.59738038,   7.31475256,   7.98517143,  10.34181405,\n",
       "        15.49882036,  21.16097297,  39.11508481,  48.32239586,\n",
       "        69.58270638,  86.15637749,  89.13693504])\n",
       "</div>"
      ]
     },
     "metadata": {},
     "output_type": "display_data"
    }
   ],
   "source": [
    "smapeallvalues*(1/7)"
   ]
  },
  {
   "cell_type": "markdown",
   "metadata": {},
   "source": [
    "The best C value is 0.0001"
   ]
  },
  {
   "cell_type": "code",
   "execution_count": 73,
   "metadata": {
    "collapsed": false
   },
   "outputs": [
    {
     "data": {
      "text/html": [
       "<style scoped>\n",
       "  .ansiout {\n",
       "    display: block;\n",
       "    unicode-bidi: embed;\n",
       "    white-space: pre-wrap;\n",
       "    word-wrap: break-word;\n",
       "    word-break: break-all;\n",
       "    font-family: \"Source Code Pro\", \"Menlo\", monospace;;\n",
       "    font-size: 13px;\n",
       "    color: #555;\n",
       "    margin-left: 4px;\n",
       "    line-height: 19px;\n",
       "  }\n",
       "</style>\n",
       "<div class=\"ansiout\"><span class=\"ansired\">Out[</span><span class=\"ansired\">166</span><span class=\"ansired\">]: </span>0.001\n",
       "</div>"
      ]
     },
     "metadata": {},
     "output_type": "display_data"
    }
   ],
   "source": [
    "parameters[np.argmin(smapeallvalues)]"
   ]
  },
  {
   "cell_type": "markdown",
   "metadata": {},
   "source": [
    "### Using best paremerter to see its performance on test data. The tuning improved the performance by decreasing the sMAPE value from 1.055 to 1.046"
   ]
  },
  {
   "cell_type": "code",
   "execution_count": 74,
   "metadata": {
    "collapsed": false
   },
   "outputs": [
    {
     "data": {
      "text/html": [
       "<style scoped>\n",
       "  .ansiout {\n",
       "    display: block;\n",
       "    unicode-bidi: embed;\n",
       "    white-space: pre-wrap;\n",
       "    word-wrap: break-word;\n",
       "    word-break: break-all;\n",
       "    font-family: \"Source Code Pro\", \"Menlo\", monospace;;\n",
       "    font-size: 13px;\n",
       "    color: #555;\n",
       "    margin-left: 4px;\n",
       "    line-height: 19px;\n",
       "  }\n",
       "</style>\n",
       "<div class=\"ansiout\">1.046187977468177\n",
       "</div>"
      ]
     },
     "metadata": {},
     "output_type": "display_data"
    }
   ],
   "source": [
    "dftest = df.where((col(\"DATEFORMAT\") > \"2015-12-31\"))\n",
    "dftrain = df.where((col(\"DATEFORMAT\") < \"2015-12-31\"))  \n",
    "lin_Reg=lr(labelCol='Next_Adj_Close', regParam = 0.0001)\n",
    "lr_model = lin_Reg.fit(dftrain)\n",
    "test_results=lr_model.evaluate(dftest)\n",
    "results=test_results.predictions\n",
    "print(smape(results))"
   ]
  },
  {
   "cell_type": "code",
   "execution_count": 75,
   "metadata": {
    "collapsed": true
   },
   "outputs": [],
   "source": [
    "dftest = df.where((col(\"DATEFORMAT\") > \"2018-08-31\"))\n",
    "dftrain = df.where((col(\"DATEFORMAT\") < \"2018-08-31\"))  \n",
    "lin_Reg=lr(labelCol='Next_Adj_Close', regParam = 0.0005)\n",
    "lr_model = lin_Reg.fit(dftrain)\n",
    "test_results=lr_model.evaluate(dftest)\n",
    "results=test_results.predictions\n",
    "print(smape(results))"
   ]
  },
  {
   "cell_type": "markdown",
   "metadata": {},
   "source": [
    "## Random Forests "
   ]
  },
  {
   "cell_type": "code",
   "execution_count": 77,
   "metadata": {
    "collapsed": true
   },
   "outputs": [],
   "source": [
    "df = spark.read.csv('/FileStore/tables/final_data_2weeks.csv', header = True, inferSchema = True)\n",
    "# df.printSchema()"
   ]
  },
  {
   "cell_type": "code",
   "execution_count": 78,
   "metadata": {
    "collapsed": true
   },
   "outputs": [],
   "source": [
    "df_assembler = VectorAssembler(inputCols=inputCols, outputCol=\"features\")\n",
    "df = df_assembler.transform(df)"
   ]
  },
  {
   "cell_type": "code",
   "execution_count": 79,
   "metadata": {
    "collapsed": true
   },
   "outputs": [],
   "source": [
    "df = df.withColumn('DATEFORMAT', to_date('Date'))"
   ]
  },
  {
   "cell_type": "code",
   "execution_count": 80,
   "metadata": {
    "collapsed": true
   },
   "outputs": [],
   "source": [
    "df = df.where((col(\"DATEFORMAT\") < \"2018-12-31\"))"
   ]
  },
  {
   "cell_type": "code",
   "execution_count": 81,
   "metadata": {
    "collapsed": true
   },
   "outputs": [],
   "source": [
    "from pyspark.ml.regression import RandomForestRegressor\n",
    "from pyspark.ml.evaluation import RegressionEvaluator\n",
    "from  pyspark.sql.functions import abs\n",
    "from pyspark.sql import functions as F"
   ]
  },
  {
   "cell_type": "code",
   "execution_count": 82,
   "metadata": {
    "collapsed": true
   },
   "outputs": [],
   "source": [
    "dftest = df.where((col(\"DATEFORMAT\") > \"2018-08-15\"))\n",
    "dftrain = df.where((col(\"DATEFORMAT\") < \"2018-08-15\"))\n",
    "dftemptemp = dftrain"
   ]
  },
  {
   "cell_type": "code",
   "execution_count": 83,
   "metadata": {
    "collapsed": true
   },
   "outputs": [],
   "source": [
    "from pyspark.ml.regression import RandomForestRegressor\n",
    "from pyspark.ml.evaluation import RegressionEvaluator\n",
    "from  pyspark.sql.functions import abs\n",
    "from pyspark.sql import functions as F\n",
    "\n",
    "\n",
    "#traindates = [\"2014-12-31\",\"2013-12-31\",\"2010-12-31\",\"2008-12-31\",\"2003-12-31\",\"1990-12-31\",\"1980-12-31\"]\n",
    "#traindates = [\"2017-08-31\",\"2016-08-31\",\"2015-08-31\",\"2013-08-31\",\"2010-08-31\",\"2008-08-31\",\"2003-08-31\",\"1990-08-31\",\"1980-08-31\"]\n",
    "#traindates = [\"2017-10-31\",\"2016-10-31\",\"2015-10-31\",\"2013-10-31\",\"2010-10-31\",\"2008-10-31\",\"2003-10-31\",\"1990-10-31\",\"1980-10-31\"]\n",
    "#traindates = [\"1980-12-21\"]\n",
    "#traindates = [\"2017-06-31\",\"2016-06-31\",\"2015-06-31\",\"2013-06-31\",\"2010-06-31\",\"2008-06-31\",\"2003-06-31\",\"1990-06-31\",\"1980-06-31\"]\n",
    "#traindates = [\"2016-08-31\",\"2015-08-31\",\"2013-08-31\",\"2010-08-31\",\"2008-08-31\",\"2003-08-31\",\"1990-08-31\",\"1980-08-31\"]\n",
    "#traindates = [\"2016-11-31\",\"2015-11-31\",\"2013-11-31\",\"2010-11-31\",\"2008-11-31\",\"2003-11-31\",\"1990-11-31\",\"1980-11-31\"]\n",
    "#traindates = [\"2016-08-31\",\"2015-08-31\",\"2013-08-31\",\"2010-08-31\",\"2008-08-31\",\"2003-08-31\",\"1990-08-31\",\"1980-08-31\"]\n",
    "#traindates = [\"2017-04-31\",\"2016-04-31\",\"2015-04-31\",\"2013-04-31\",\"2010-04-31\",\"2008-04-31\",\"2003-04-31\",\"1990-04-31\",\"1980-04-31\"]\n",
    "#traindates = [\"2017-02-31\",\"2016-02-31\",\"2015-02-31\",\"2013-02-31\",\"2010-02-31\",\"2008-02-31\",\"2003-02-31\",\"1990-02-31\",\"1980-02-31\"]\n",
    "traindates = [\"2017-08-15\",\"2016-08-15\",\"2015-08-15\",\"2013-08-15\",\"2010-08-15\",\"2008-08-15\",\"2003-08-15\",\"1990-08-15\",\"1980-08-15\"]\n",
    "\n",
    "biglist = []\n",
    "for i in traindates:\n",
    "  small = []\n",
    "  dftrai = dftemptemp.where((col(\"DATEFORMAT\") > i))\n",
    "  training_df=dftrai.select(['features','Next_Adj_Close'])\n",
    "  test_df=dftest.select(['features','Next_Adj_Close'])\n",
    "  \n",
    "  rf = RandomForestRegressor(labelCol='Next_Adj_Close')\n",
    "  rf_model = rf.fit(training_df)\n",
    "\n",
    "  training_predictions= rf_model.transform(training_df)\n",
    "  evaluator = RegressionEvaluator(\n",
    "  labelCol=\"Next_Adj_Close\", predictionCol=\"prediction\", metricName=\"rmse\")\n",
    "  rmse = evaluator.evaluate(training_predictions)\n",
    "  small.append(rmse)\n",
    "  \n",
    "  test_results=rf_model.transform(test_df)\n",
    "  evaluator = RegressionEvaluator(\n",
    "  labelCol=\"Next_Adj_Close\", predictionCol=\"prediction\", metricName=\"rmse\")\n",
    "  rmse = evaluator.evaluate(test_results)\n",
    "  small.append(rmse)\n",
    "  \n",
    "  #results=test_results.prediction\n",
    "  results = test_results.toPandas()\n",
    "  small.append(smape(results))\n",
    "  biglist.append(small)"
   ]
  },
  {
   "cell_type": "code",
   "execution_count": 84,
   "metadata": {
    "collapsed": true
   },
   "outputs": [],
   "source": [
    "fourmonths = pd.DataFrame(biglist, index=traindates, columns=['trian RMSE','test RMSE','SMAPE'])"
   ]
  },
  {
   "cell_type": "code",
   "execution_count": 85,
   "metadata": {
    "collapsed": true
   },
   "outputs": [],
   "source": [
    "fourmonths"
   ]
  },
  {
   "cell_type": "markdown",
   "metadata": {},
   "source": [
    "## using user defined function to perform cross validation and tuning for random forests"
   ]
  },
  {
   "cell_type": "code",
   "execution_count": 86,
   "metadata": {
    "collapsed": true
   },
   "outputs": [],
   "source": [
    "def tuning_lr(df1,df2,parameters):\n",
    "  \n",
    "  training_df=df1.select(['features','Next_Adj_Close'])\n",
    "  test_df=df2.select(['features','Next_Adj_Close'])\n",
    "\n",
    "  trees = parameters[0]\n",
    "  depth = parameters[1]\n",
    "  \n",
    "  smapevalues = []\n",
    "  \n",
    "  for i in trees:\n",
    "    print(i)\n",
    "    for j in depth:\n",
    "      rf = RandomForestRegressor(numTrees=i, maxDepth=j, labelCol='Next_Adj_Close')\n",
    "      rf_model = rf.fit(training_df)  \n",
    "      test_results=rf_model.transform(test_df)\n",
    "      results = test_results.toPandas()\n",
    "      smapevalues.append(smape(results))\n",
    "\n",
    "    #smapevalues.append(test_results.rootMeanSquaredError)\n",
    "    \n",
    "    \n",
    "  return np.array(smapevalues)"
   ]
  },
  {
   "cell_type": "code",
   "execution_count": 87,
   "metadata": {
    "collapsed": true
   },
   "outputs": [],
   "source": [
    "def crossval(df,parameters):\n",
    "  \n",
    "  df = df.withColumn(\"rank\", percent_rank().over(Window.partitionBy().orderBy(\"date\")))\n",
    "    \n",
    "  temp1 = df.where((col(\"rank\") > 0.0) & (col(\"rank\") < 0.1)).drop(\"rank\")\n",
    "  temp2 = df.where((col(\"rank\") > 0.1) & (col(\"rank\") < 0.2)).drop(\"rank\")\n",
    "  temp3 = df.where((col(\"rank\") > 0.2) & (col(\"rank\") < 0.3)).drop(\"rank\")\n",
    "  temp4 = df.where((col(\"rank\") > 0.3) & (col(\"rank\") < 0.4)).drop(\"rank\")\n",
    "  temp5 = df.where((col(\"rank\") > 0.4) & (col(\"rank\") < 0.5)).drop(\"rank\")\n",
    "  temp6 = df.where((col(\"rank\") > 0.5) & (col(\"rank\") < 0.6)).drop(\"rank\")\n",
    "  temp7 = df.where((col(\"rank\") > 0.6) & (col(\"rank\") < 0.7)).drop(\"rank\")\n",
    "  temp8 = df.where((col(\"rank\") > 0.7) & (col(\"rank\") < 0.8)).drop(\"rank\")\n",
    "  temp9 = df.where((col(\"rank\") > 0.8) & (col(\"rank\") < 0.9)).drop(\"rank\")\n",
    "  temp10 = df.where((col(\"rank\") > 0.9) & (col(\"rank\") < 1.0)).drop(\"rank\")\n",
    "  \n",
    "  temp = [temp1,temp2,temp3,temp4,temp5,temp6,temp7,temp8,temp9,temp10]\n",
    "  \n",
    "  Allresults = []\n",
    "  #tempresults = [0] * len(parameters)\n",
    "  tempresults = [0] * len(parameters[0])*len(parameters[1])\n",
    "  tempresults = np.array(tempresults)\n",
    "  \n",
    "  i = 0\n",
    "  j = 3\n",
    "  while j < 10:\n",
    "    tempresults = np.add(tempresults,tuning_lr(temp[i].unionAll(temp[i+1]).unionAll(temp[i+2]),temp[j],parameters))\n",
    "    i = i +1\n",
    "    j = j+1\n",
    "  \n",
    "  #return parameters[np.argmax(tempresults)]\n",
    "  return tempresults\n",
    "  "
   ]
  },
  {
   "cell_type": "code",
   "execution_count": 88,
   "metadata": {
    "collapsed": true
   },
   "outputs": [],
   "source": [
    "from pyspark.sql.functions import percent_rank\n",
    "from pyspark.sql import Window\n",
    "from pyspark.ml.regression import LinearRegression as lr\n",
    "\n",
    "dftemptrain = df.where((col(\"DATEFORMAT\") > \"2013-08-31\"))\n",
    "dftraintuning = dftemptrain.where((col(\"DATEFORMAT\") < \"2018-08-31\"))\n",
    "dftest = df.where((col(\"DATEFORMAT\") > \"2018-08-31\"))"
   ]
  },
  {
   "cell_type": "markdown",
   "metadata": {},
   "source": [
    "### hyperparameterse considered are n_estimators and max_depth"
   ]
  },
  {
   "cell_type": "code",
   "execution_count": 89,
   "metadata": {
    "collapsed": true
   },
   "outputs": [],
   "source": [
    "# n_estimators = [int(x) for x in np.linspace(start = 100, stop = 1000, num = 10)]\n",
    "# max_depth = [int(x) for x in np.linspace(1, 10, num = 5)]\n",
    "n_estimators = [10,100]\n",
    "max_depth = [3,10]"
   ]
  },
  {
   "cell_type": "code",
   "execution_count": 90,
   "metadata": {
    "collapsed": true
   },
   "outputs": [],
   "source": [
    "parameters = [n_estimators,max_depth]\n",
    "trees = parameters[0]\n",
    "depth = parameters[1]  \n",
    "listedparameters = []\n",
    "for i in trees:\n",
    "  for j in depth:\n",
    "    listedparameters.append([i,j])\n",
    "#listedparameters\n",
    "# max_depth\n",
    "parameters = [n_estimators,max_depth]\n",
    "# parameters[1]\n",
    "#default numTrees=20,maxDepth=5"
   ]
  },
  {
   "cell_type": "code",
   "execution_count": 91,
   "metadata": {
    "collapsed": true
   },
   "outputs": [],
   "source": [
    "smapeallvalues = crossval(dftraintuning,parameters)"
   ]
  },
  {
   "cell_type": "code",
   "execution_count": 92,
   "metadata": {
    "collapsed": true
   },
   "outputs": [],
   "source": [
    "smapeallvalues*(1/7)"
   ]
  },
  {
   "cell_type": "code",
   "execution_count": 93,
   "metadata": {
    "collapsed": true
   },
   "outputs": [],
   "source": [
    "np.min(smapeallvalues)*(1/7)"
   ]
  },
  {
   "cell_type": "markdown",
   "metadata": {},
   "source": [
    "### finding the best hyper parameter"
   ]
  },
  {
   "cell_type": "code",
   "execution_count": 94,
   "metadata": {
    "collapsed": true
   },
   "outputs": [],
   "source": [
    "listedparameters[np.argmin(smapeallvalues)]"
   ]
  },
  {
   "cell_type": "markdown",
   "metadata": {},
   "source": [
    "### using the best paramter obtained to check its performance on test data"
   ]
  },
  {
   "cell_type": "code",
   "execution_count": 95,
   "metadata": {
    "collapsed": true
   },
   "outputs": [],
   "source": [
    "training_df=dftraintuning.select(['features','Next_Adj_Close'])\n",
    "test_df=dftest.select(['features','Next_Adj_Close'])\n",
    "\n",
    "rf = RandomForestRegressor(numTrees=100, maxDepth=10,labelCol='Next_Adj_Close')\n",
    "rf_model = rf.fit(training_df)\n",
    "\n",
    "training_predictions= rf_model.transform(training_df)\n",
    "evaluator = RegressionEvaluator(\n",
    "labelCol=\"Next_Adj_Close\", predictionCol=\"prediction\", metricName=\"rmse\")\n",
    "print(evaluator.evaluate(training_predictions))\n",
    "\n",
    "test_results=rf_model.transform(test_df)\n",
    "evaluator = RegressionEvaluator(\n",
    "labelCol=\"Next_Adj_Close\", predictionCol=\"prediction\", metricName=\"rmse\")\n",
    "print(evaluator.evaluate(test_results))\n",
    "\n",
    "#results=test_results.prediction\n",
    "results = test_results.toPandas()\n",
    "print(smape(results))"
   ]
  },
  {
   "cell_type": "markdown",
   "metadata": {},
   "source": [
    "## Gradient Boosting"
   ]
  },
  {
   "cell_type": "code",
   "execution_count": 96,
   "metadata": {
    "collapsed": true
   },
   "outputs": [],
   "source": [
    "df = spark.read.csv('/FileStore/tables/final_data_2weeks.csv', header = True, inferSchema = True)\n",
    "# df.printSchema()"
   ]
  },
  {
   "cell_type": "code",
   "execution_count": 97,
   "metadata": {
    "collapsed": true
   },
   "outputs": [],
   "source": [
    "df_assembler = VectorAssembler(inputCols=inputCols, outputCol=\"features\")\n",
    "df = df_assembler.transform(df)"
   ]
  },
  {
   "cell_type": "code",
   "execution_count": 98,
   "metadata": {
    "collapsed": true
   },
   "outputs": [],
   "source": [
    "df = df.withColumn('DATEFORMAT', to_date('Date'))"
   ]
  },
  {
   "cell_type": "code",
   "execution_count": 99,
   "metadata": {
    "collapsed": true
   },
   "outputs": [],
   "source": [
    "df = df.where((col(\"DATEFORMAT\") < \"2018-12-31\"))"
   ]
  },
  {
   "cell_type": "code",
   "execution_count": 100,
   "metadata": {
    "collapsed": true
   },
   "outputs": [],
   "source": [
    "dftest = df.where((col(\"DATEFORMAT\") > \"2018-08-15\"))\n",
    "dftrain = df.where((col(\"DATEFORMAT\") < \"2018-08-15\"))\n",
    "dftemptemp = dftrain"
   ]
  },
  {
   "cell_type": "code",
   "execution_count": 101,
   "metadata": {
    "collapsed": true
   },
   "outputs": [],
   "source": [
    "from pyspark.ml.regression import GBTRegressor\n",
    "from pyspark.ml.evaluation import RegressionEvaluator\n",
    "\n",
    "#traindates = [\"2014-12-31\",\"2013-12-31\",\"2010-12-31\",\"2008-12-31\",\"2003-12-31\",\"1990-12-31\",\"1980-12-31\"]\n",
    "#traindates = [\"2017-08-31\",\"2016-08-31\",\"2015-08-31\",\"2013-08-31\",\"2010-08-31\",\"2008-08-31\",\"2003-08-31\",\"1990-08-31\",\"1980-08-31\"]\n",
    "#traindates = [\"2017-10-31\",\"2016-10-31\",\"2015-10-31\",\"2013-10-31\",\"2010-10-31\",\"2008-10-31\",\"2003-10-31\",\"1990-10-31\",\"1980-10-31\"]\n",
    "#traindates = [\"1980-12-21\"]\n",
    "#traindates = [\"2017-06-31\",\"2016-06-31\",\"2015-06-31\",\"2013-06-31\",\"2010-06-31\",\"2008-06-31\",\"2003-06-31\",\"1990-06-31\",\"1980-06-31\"]\n",
    "#traindates = [\"2016-11-31\",\"2015-11-31\",\"2013-11-31\",\"2010-11-31\",\"2008-11-31\",\"2003-11-31\",\"1990-11-31\",\"1980-11-31\"]\n",
    "#traindates = [\"2016-08-31\",\"2015-08-31\",\"2013-08-31\",\"2010-08-31\",\"2008-08-31\",\"2003-08-31\",\"1990-08-31\",\"1980-08-31\"]\n",
    "#traindates = [\"2017-08-21\",\"2016-08-21\",\"2015--08-21\",\"2013--08-21\",\"2010--08-21\",\"2008--08-21\",\"2003--08-21\",\"1990--08-21\",\"1980--08-21\"]\n",
    "#traindates = [\"2017-04-31\",\"2016-04-31\",\"2015-04-31\",\"2013-04-31\",\"2010-04-31\",\"2008-04-31\",\"2003-04-31\",\"1990-04-31\",\"1980-04-31\"]\n",
    "#traindates = [\"2017-02-31\",\"2016-02-31\",\"2015-02-31\",\"2013-02-31\",\"2010-02-31\",\"2008-02-31\",\"2003-02-31\",\"1990-02-31\",\"1980-02-31\"]\n",
    "traindates = [\"2017-08-15\",\"2016-08-15\",\"2015-08-15\",\"2013-08-15\",\"2010-08-15\",\"2008-08-15\",\"2003-08-15\",\"1990-08-15\",\"1980-08-15\"]\n",
    "\n",
    "biglist = []\n",
    "for i in traindates:\n",
    "  small = []\n",
    "  dftrai = dftemptemp.where((col(\"DATEFORMAT\") > i))\n",
    "  training_df=dftrai.select(['features','Next_Adj_Close'])\n",
    "  test_df=dftest.select(['features','Next_Adj_Close'])\n",
    "  \n",
    "  gbr = GBTRegressor(labelCol='Next_Adj_Close')\n",
    "  gbr_model = gbr.fit(training_df)\n",
    "\n",
    "  training_predictions= gbr_model.transform(training_df)\n",
    "  evaluator = RegressionEvaluator(\n",
    "  labelCol=\"Next_Adj_Close\", predictionCol=\"prediction\", metricName=\"rmse\")\n",
    "  rmse = evaluator.evaluate(training_predictions)\n",
    "  small.append(rmse)\n",
    "  \n",
    "  test_results=gbr_model.transform(test_df)\n",
    "  evaluator = RegressionEvaluator(\n",
    "  labelCol=\"Next_Adj_Close\", predictionCol=\"prediction\", metricName=\"rmse\")\n",
    "  rmse = evaluator.evaluate(test_results)\n",
    "  small.append(rmse)\n",
    "  \n",
    "  #results=test_results.prediction\n",
    "  results = test_results.toPandas()\n",
    "  small.append(smape(results))\n",
    "  biglist.append(small)"
   ]
  },
  {
   "cell_type": "code",
   "execution_count": 102,
   "metadata": {
    "collapsed": true
   },
   "outputs": [],
   "source": [
    "fourmonths = pd.DataFrame(biglist, index=traindates, columns=['trian RMSE','test RMSE','SMAPE'])"
   ]
  },
  {
   "cell_type": "code",
   "execution_count": 103,
   "metadata": {
    "collapsed": true
   },
   "outputs": [],
   "source": [
    "fourmonths"
   ]
  },
  {
   "cell_type": "markdown",
   "metadata": {},
   "source": [
    "### User defined function for hyperparameter tuning and cross validation for gradient boosting"
   ]
  },
  {
   "cell_type": "code",
   "execution_count": 104,
   "metadata": {
    "collapsed": true
   },
   "outputs": [],
   "source": [
    "def tuning_lr(df1,df2,parameters):\n",
    "  \n",
    "  training_df=df1.select(['features','Next_Adj_Close'])\n",
    "  test_df=df2.select(['features','Next_Adj_Close'])\n",
    "\n",
    "  trees = parameters[0]\n",
    "  depth = parameters[1]\n",
    "  \n",
    "  smapevalues = []\n",
    "  \n",
    "  for i in trees:\n",
    "    for j in depth:\n",
    "      gbr = GBTRegressor(maxIter=i, maxDepth=j, labelCol='Next_Adj_Close')\n",
    "      gbr_model = gbr.fit(training_df)  \n",
    "      test_results=gbr_model.transform(test_df)\n",
    "      results = test_results.toPandas()\n",
    "      smapevalues.append(smape(results))\n",
    "\n",
    "    #smapevalues.append(test_results.rootMeanSquaredError) \n",
    "    \n",
    "  return np.array(smapevalues)"
   ]
  },
  {
   "cell_type": "code",
   "execution_count": 105,
   "metadata": {
    "collapsed": true
   },
   "outputs": [],
   "source": [
    "def crossval(df,parameters):\n",
    "  \n",
    "  df = df.withColumn(\"rank\", percent_rank().over(Window.partitionBy().orderBy(\"date\")))\n",
    "    \n",
    "  temp1 = df.where((col(\"rank\") > 0.0) & (col(\"rank\") < 0.1)).drop(\"rank\")\n",
    "  temp2 = df.where((col(\"rank\") > 0.1) & (col(\"rank\") < 0.2)).drop(\"rank\")\n",
    "  temp3 = df.where((col(\"rank\") > 0.2) & (col(\"rank\") < 0.3)).drop(\"rank\")\n",
    "  temp4 = df.where((col(\"rank\") > 0.3) & (col(\"rank\") < 0.4)).drop(\"rank\")\n",
    "  temp5 = df.where((col(\"rank\") > 0.4) & (col(\"rank\") < 0.5)).drop(\"rank\")\n",
    "  temp6 = df.where((col(\"rank\") > 0.5) & (col(\"rank\") < 0.6)).drop(\"rank\")\n",
    "  temp7 = df.where((col(\"rank\") > 0.6) & (col(\"rank\") < 0.7)).drop(\"rank\")\n",
    "  temp8 = df.where((col(\"rank\") > 0.7) & (col(\"rank\") < 0.8)).drop(\"rank\")\n",
    "  temp9 = df.where((col(\"rank\") > 0.8) & (col(\"rank\") < 0.9)).drop(\"rank\")\n",
    "  temp10 = df.where((col(\"rank\") > 0.9) & (col(\"rank\") < 1.0)).drop(\"rank\")\n",
    "  \n",
    "  temp = [temp1,temp2,temp3,temp4,temp5,temp6,temp7,temp8,temp9,temp10]\n",
    "  \n",
    "  Allresults = []\n",
    "  #tempresults = [0] * len(parameters)\n",
    "  tempresults = [0] * len(parameters[0])*len(parameters[1])\n",
    "  tempresults = np.array(tempresults)\n",
    "  \n",
    "  i = 0\n",
    "  j = 3\n",
    "  while j < 10:\n",
    "    tempresults = np.add(tempresults,tuning_lr(temp[i].unionAll(temp[i+1]).unionAll(temp[i+2]),temp[j],parameters))\n",
    "    i = i +1\n",
    "    j = j+1\n",
    "  \n",
    "  #return parameters[np.argmax(tempresults)]\n",
    "  return tempresults\n",
    "  "
   ]
  },
  {
   "cell_type": "code",
   "execution_count": 106,
   "metadata": {
    "collapsed": true
   },
   "outputs": [],
   "source": [
    "from pyspark.sql.functions import percent_rank\n",
    "from pyspark.sql import Window\n",
    "\n",
    "dftemptrain = df.where((col(\"DATEFORMAT\") > \"2013-08-31\"))\n",
    "dftraintuning = dftemptrain.where((col(\"DATEFORMAT\") < \"2018-08-31\"))"
   ]
  },
  {
   "cell_type": "markdown",
   "metadata": {},
   "source": [
    "### hyparameters considered n_estimators and max_depth"
   ]
  },
  {
   "cell_type": "code",
   "execution_count": 107,
   "metadata": {
    "collapsed": true
   },
   "outputs": [],
   "source": [
    "# n_estimators = [int(x) for x in np.linspace(start = 100, stop = 1000, num = 10)]\n",
    "# max_depth = [int(x) for x in np.linspace(1, 10, num = 5)]\n",
    "n_estimators = [10,20,50,100,200,500]\n",
    "max_depth = [3,5,10,15]"
   ]
  },
  {
   "cell_type": "code",
   "execution_count": 108,
   "metadata": {
    "collapsed": true
   },
   "outputs": [],
   "source": [
    "parameters = [n_estimators,max_depth]\n",
    "trees = parameters[0]\n",
    "depth = parameters[1]  \n",
    "listedparameters = []\n",
    "for i in trees:\n",
    "  for j in depth:\n",
    "    listedparameters.append([i,j])\n",
    "#listedparameters\n",
    "# max_depth\n",
    "parameters = [n_estimators,max_depth]\n",
    "# parameters[1]\n",
    "# default maxDepth=5, maxIter=20"
   ]
  },
  {
   "cell_type": "code",
   "execution_count": 109,
   "metadata": {
    "collapsed": true
   },
   "outputs": [],
   "source": [
    "smapeallvalues = crossval(dftraintuning,parameters)\n",
    "smapeallvalues*(1/7)"
   ]
  },
  {
   "cell_type": "markdown",
   "metadata": {},
   "source": [
    "### finding the best parameter for gradient boost trees"
   ]
  },
  {
   "cell_type": "code",
   "execution_count": 110,
   "metadata": {
    "collapsed": true
   },
   "outputs": [],
   "source": [
    "parameters[np.argmin(smapeallvalues)]"
   ]
  },
  {
   "cell_type": "markdown",
   "metadata": {},
   "source": [
    "### checking the performance of best parameter on test data"
   ]
  },
  {
   "cell_type": "code",
   "execution_count": 111,
   "metadata": {
    "collapsed": true
   },
   "outputs": [],
   "source": [
    "from pyspark.ml.regression import GBTRegressor\n",
    "training_df=dftraintuning.select(['features','Next_Adj_Close'])\n",
    "test_df=dftest.select(['features','Next_Adj_Close'])\n",
    "\n",
    "gbr = GBTRegressor(maxIter=20, maxDepth=5, labelCol='Next_Adj_Close')\n",
    "gbr_model = gbr.fit(training_df)\n",
    "\n",
    "training_predictions= gbr_model.transform(training_df)\n",
    "evaluator = RegressionEvaluator(\n",
    "labelCol=\"Next_Adj_Close\", predictionCol=\"prediction\", metricName=\"rmse\")\n",
    "print(evaluator.evaluate(training_predictions))\n",
    "\n",
    "test_results=gbr_model.transform(test_df)\n",
    "evaluator = RegressionEvaluator(\n",
    "labelCol=\"Next_Adj_Close\", predictionCol=\"prediction\", metricName=\"rmse\")\n",
    "print(evaluator.evaluate(test_results))\n",
    "\n",
    "#results=test_results.prediction\n",
    "results = test_results.toPandas()\n",
    "print(smape(results))"
   ]
  }
 ],
 "metadata": {
  "anaconda-cloud": {},
  "kernelspec": {
   "display_name": "Python [default]",
   "language": "python",
   "name": "python3"
  },
  "language_info": {
   "codemirror_mode": {
    "name": "ipython",
    "version": 3
   },
   "file_extension": ".py",
   "mimetype": "text/x-python",
   "name": "python",
   "nbconvert_exporter": "python",
   "pygments_lexer": "ipython3",
   "version": "3.5.2"
  },
  "name": "PySpark_Stock_prediction_Apple_1day (1)",
  "notebookId": 503076504003289
 },
 "nbformat": 4,
 "nbformat_minor": 0
}
